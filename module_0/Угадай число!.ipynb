{
 "cells": [
  {
   "cell_type": "code",
   "execution_count": 1,
   "metadata": {},
   "outputs": [],
   "source": [
    "import numpy as np"
   ]
  },
  {
   "cell_type": "code",
   "execution_count": 150,
   "metadata": {},
   "outputs": [],
   "source": [
    "def game_core_v3(number, interval=(1, 100), count=1):\n",
    "    '''Сначала устанавливаем ответ в середину интервала. \n",
    "    Далее, в зависимости от того, больше оно или меньше нужного \n",
    "    устанавливаем его в середину оставшегося интервала и так рекурсивно. \n",
    "    Функция принимает загаданное число, интервал загаданного числа, число попыток до вызова\n",
    "    и возвращает число попыток после вызова.'''\n",
    "    \n",
    "    if interval[1] < interval[0]:\n",
    "        #Если в интервале первый элеиент больше второго - переворачиваем\n",
    "        interval = (interval[1], interval[0])\n",
    "         \n",
    "    if interval[1] == interval[0]:\n",
    "        #Если в интервале границы равны - это ответ\n",
    "        predict = interval[0]\n",
    "        return count\n",
    "    elif interval[1] - interval[0] == 1:\n",
    "        #Если в интервале границы соседние числа - ответ одно из них\n",
    "        predict = interval[0]\n",
    "        if number != predict:\n",
    "            count += 1\n",
    "            predict = interval[1]\n",
    "        return count\n",
    "    else:\n",
    "        predict = int(interval[0] + (interval[1] - interval[0])/2)        \n",
    "        if number > predict:\n",
    "            count = game_core_v3(number, (predict, interval[1]), count + 1)\n",
    "        elif number < predict:\n",
    "            count = game_core_v3(number, (interval[0], predict), count + 1)\n",
    "    \n",
    "    return count # выход из цикла, если угадали\n",
    "\n",
    "\n",
    "def score_game(game_core):\n",
    "    '''Запускаем игру 1000 раз, чтобы узнать, как быстро игра угадывает число'''\n",
    "    count_ls = []\n",
    "    np.random.seed(1)  # фиксируем RANDOM SEED, чтобы ваш эксперимент был воспроизводим!\n",
    "    random_array = np.random.randint(1, 101, size=(1000))\n",
    "    for number in random_array:\n",
    "        count_ls.append(game_core(number))\n",
    "    score = int(np.mean(count_ls))\n",
    "    print(f\"Ваш алгоритм угадывает число в среднем за {score} попыток\")\n",
    "    return(score)\n"
   ]
  },
  {
   "cell_type": "code",
   "execution_count": 160,
   "metadata": {},
   "outputs": [
    {
     "name": "stdout",
     "output_type": "stream",
     "text": [
      "Загадано число от 1 до 100 - 60\n",
      "Ответ дан за 6 попыток\n"
     ]
    }
   ],
   "source": [
    "number = np.random.randint(1,101)    # загадали число\n",
    "print (\"Загадано число от 1 до 100 -\", number)\n",
    "count = game_core_v3(number)\n",
    "print(f\"Ответ дан за {count} попыток\")"
   ]
  },
  {
   "cell_type": "code",
   "execution_count": 159,
   "metadata": {},
   "outputs": [
    {
     "name": "stdout",
     "output_type": "stream",
     "text": [
      "Ваш алгоритм угадывает число в среднем за 5 попыток\n"
     ]
    },
    {
     "data": {
      "text/plain": [
       "5"
      ]
     },
     "execution_count": 159,
     "metadata": {},
     "output_type": "execute_result"
    }
   ],
   "source": [
    "score_game(game_core_v3)"
   ]
  },
  {
   "cell_type": "code",
   "execution_count": null,
   "metadata": {},
   "outputs": [],
   "source": []
  }
 ],
 "metadata": {
  "kernelspec": {
   "display_name": "Python 3",
   "language": "python",
   "name": "python3"
  },
  "language_info": {
   "codemirror_mode": {
    "name": "ipython",
    "version": 3
   },
   "file_extension": ".py",
   "mimetype": "text/x-python",
   "name": "python",
   "nbconvert_exporter": "python",
   "pygments_lexer": "ipython3",
   "version": "3.7.6"
  }
 },
 "nbformat": 4,
 "nbformat_minor": 4
}
