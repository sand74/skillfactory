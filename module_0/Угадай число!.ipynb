{
 "cells": [
  {
   "cell_type": "code",
   "execution_count": 10,
   "metadata": {},
   "outputs": [],
   "source": [
    "import numpy as np\n",
    "import math\n",
    "import random"
   ]
  },
  {
   "cell_type": "code",
   "execution_count": 11,
   "metadata": {},
   "outputs": [],
   "source": [
    "def score_game(game_core, count=1000):\n",
    "    '''Запускаем игру 1000 раз, чтобы узнать, как быстро игра угадывает число'''\n",
    "    count_ls = []\n",
    "    np.random.seed(1)  # фиксируем RANDOM SEED, чтобы ваш эксперимент был воспроизводим!\n",
    "    random_array = np.random.randint(1, 101, size=(count))\n",
    "    for number in random_array:\n",
    "        count_ls.append(game_core(number))\n",
    "    score = int(np.mean(count_ls))\n",
    "    print(f\"Ваш алгоритм угадывает число в среднем за {score} попыток\")\n",
    "    return(score)\n"
   ]
  },
  {
   "cell_type": "code",
   "execution_count": 12,
   "metadata": {},
   "outputs": [],
   "source": [
    "def game_core_v3(number, interval=(1, 100), count=0):\n",
    "    '''Сначала устанавливаем ответ в середину интервала. \n",
    "    Далее, в зависимости от того, больше оно или меньше нужного \n",
    "    устанавливаем его в середину оставшегося интервала и так рекурсивно. \n",
    "    Функция принимает загаданное число, интервал загаданного числа \n",
    "    и возвращает число попыток после вызова или Inf если число вне интервала.'''\n",
    "    \n",
    "    count += 1 #Каждый вызов функции увеличивает кол-во попыток на 1\n",
    "    predict = interval[0] + (interval[1] - interval[0])//2\n",
    "    if number > predict:\n",
    "        count = game_core_v3(number, (predict + 1, interval[1]), count)\n",
    "    elif number < predict:\n",
    "        count = game_core_v3(number, (interval[0], predict - 1), count)\n",
    "    return count\n"
   ]
  },
  {
   "cell_type": "code",
   "execution_count": 13,
   "metadata": {},
   "outputs": [],
   "source": [
    "def game_core_v4(number, interval=(1, 100)):\n",
    "    '''Сначала устанавливаем ответ в середину интервала. \n",
    "    Далее, в зависимости от того, больше оно или меньше нужного \n",
    "    устанавливаем его в середину оставшегося интервала и так рекурсивно. \n",
    "    Функция принимает загаданное число, интервал загаданного числа \n",
    "    и возвращает число попыток после вызова или Inf если число вне интервала.'''\n",
    "\n",
    "    count = 1\n",
    "    low = interval[0]\n",
    "    high = interval[1]\n",
    "    predict = random.randint(interval[0], interval[1])\n",
    "    while predict != number:\n",
    "        count += 1 #Каждый вызов функции увеличивает кол-во попыток на 1\n",
    "        if number > predict:\n",
    "            low = predict + 1\n",
    "        else:\n",
    "            high = predict - 1\n",
    "        predict = low + (high - low)//2\n",
    "    return count\n"
   ]
  },
  {
   "cell_type": "code",
   "execution_count": 14,
   "metadata": {},
   "outputs": [
    {
     "name": "stdout",
     "output_type": "stream",
     "text": [
      "Загадано число от 1 до 100 - 60\n",
      "Ответ дан за 6 попыток\n"
     ]
    }
   ],
   "source": [
    "number = np.random.randint(1, 100)    # загадали число\n",
    "print (\"Загадано число от 1 до 100 -\", number)\n",
    "count = game_core_v3(number, (1, 100))\n",
    "print(f\"Ответ дан за {count} попыток\")"
   ]
  },
  {
   "cell_type": "code",
   "execution_count": 15,
   "metadata": {},
   "outputs": [
    {
     "name": "stdout",
     "output_type": "stream",
     "text": [
      "Ваш алгоритм угадывает число в среднем за 5 попыток\n"
     ]
    }
   ],
   "source": [
    "_ = score_game(game_core_v3)"
   ]
  },
  {
   "cell_type": "code",
   "execution_count": 17,
   "metadata": {},
   "outputs": [
    {
     "name": "stdout",
     "output_type": "stream",
     "text": [
      "Ваш алгоритм угадывает число в среднем за 6 попыток\n"
     ]
    }
   ],
   "source": [
    "_ = score_game(game_core_v4, 100000)"
   ]
  },
  {
   "cell_type": "code",
   "execution_count": 18,
   "metadata": {},
   "outputs": [
    {
     "name": "stdout",
     "output_type": "stream",
     "text": [
      "Загадано число от 1 до 100 - 97\n"
     ]
    }
   ],
   "source": [
    "number = np.random.randint(1, 100)    # загадали число\n",
    "print (\"Загадано число от 1 до 100 -\", number)"
   ]
  },
  {
   "cell_type": "code",
   "execution_count": 19,
   "metadata": {},
   "outputs": [
    {
     "name": "stdout",
     "output_type": "stream",
     "text": [
      "1.12 µs ± 4.49 ns per loop (mean ± std. dev. of 7 runs, 1000000 loops each)\n"
     ]
    }
   ],
   "source": [
    "%%timeit\n",
    "count = game_core_v3(number)"
   ]
  },
  {
   "cell_type": "code",
   "execution_count": 20,
   "metadata": {},
   "outputs": [
    {
     "name": "stdout",
     "output_type": "stream",
     "text": [
      "1.51 µs ± 4.14 ns per loop (mean ± std. dev. of 7 runs, 1000000 loops each)\n"
     ]
    }
   ],
   "source": [
    "%%timeit\n",
    "count = game_core_v4(number)"
   ]
  },
  {
   "cell_type": "code",
   "execution_count": null,
   "metadata": {},
   "outputs": [],
   "source": []
  }
 ],
 "metadata": {
  "kernelspec": {
   "display_name": "Python 3",
   "language": "python",
   "name": "python3"
  },
  "language_info": {
   "codemirror_mode": {
    "name": "ipython",
    "version": 3
   },
   "file_extension": ".py",
   "mimetype": "text/x-python",
   "name": "python",
   "nbconvert_exporter": "python",
   "pygments_lexer": "ipython3",
   "version": "3.7.6"
  }
 },
 "nbformat": 4,
 "nbformat_minor": 4
}
