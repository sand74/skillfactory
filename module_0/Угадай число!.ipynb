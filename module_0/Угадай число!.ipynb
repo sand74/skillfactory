{
 "cells": [
  {
   "cell_type": "code",
   "execution_count": 1,
   "metadata": {},
   "outputs": [],
   "source": [
    "import numpy as np"
   ]
  },
  {
   "cell_type": "code",
   "execution_count": 2,
   "metadata": {},
   "outputs": [],
   "source": [
    "def game_core_v3(number, interval=(1, 100)):\n",
    "    '''Сначала устанавливаем ответ в середину интервала. \n",
    "    Далее, в зависимости от того, больше оно или меньше нужного \n",
    "    устанавливаем его в середину оставшегося интервала и так рекурсивно. \n",
    "    Функция принимает загаданное число, интервал загаданного числа \n",
    "    и возвращает число попыток после вызова или Inf если число вне интервала.'''\n",
    "    \n",
    "    def int_game_core(number, interval, count=0):\n",
    "        count += 1 #Каждый вызов функции увеличивает кол-во попыток на 1\n",
    "        predict = interval[0] + (interval[1] - interval[0])//2      \n",
    "        if number > predict:\n",
    "            count = int_game_core(number, (predict + 1, interval[1]), count)\n",
    "        elif number < predict:\n",
    "            count = int_game_core(number, (interval[0], predict - 1), count)\n",
    "        return count\n",
    "        \n",
    "    #Проверка входных параметров    \n",
    "    if interval[0] > interval[1]:\n",
    "        interval = (interval[1], interval[0])\n",
    "    \n",
    "    if number < interval[0] or number > interval[1]:\n",
    "        return np.inf\n",
    "            \n",
    "    return int_game_core(number, interval) \n",
    "\n",
    "\n",
    "def score_game(game_core):\n",
    "    '''Запускаем игру 1000 раз, чтобы узнать, как быстро игра угадывает число'''\n",
    "    count_ls = []\n",
    "    np.random.seed(1)  # фиксируем RANDOM SEED, чтобы ваш эксперимент был воспроизводим!\n",
    "    random_array = np.random.randint(1, 101, size=(1000))\n",
    "    for number in random_array:\n",
    "        count_ls.append(game_core(number))\n",
    "    score = int(np.mean(count_ls))\n",
    "    print(f\"Ваш алгоритм угадывает число в среднем за {score} попыток\")\n",
    "    return(score)\n"
   ]
  },
  {
   "cell_type": "code",
   "execution_count": 3,
   "metadata": {},
   "outputs": [
    {
     "name": "stdout",
     "output_type": "stream",
     "text": [
      "Загадано число от 1 до 100 - 73\n",
      "Ответ дан за 6 попыток\n"
     ]
    }
   ],
   "source": [
    "number = np.random.randint(1, 101)    # загадали число\n",
    "print (\"Загадано число от 1 до 100 -\", number)\n",
    "count = game_core_v3(number, (1, 100))\n",
    "print(f\"Ответ дан за {count} попыток\")"
   ]
  },
  {
   "cell_type": "code",
   "execution_count": 4,
   "metadata": {},
   "outputs": [
    {
     "name": "stdout",
     "output_type": "stream",
     "text": [
      "Ваш алгоритм угадывает число в среднем за 5 попыток\n"
     ]
    }
   ],
   "source": [
    "_ = score_game(game_core_v3)"
   ]
  }
 ],
 "metadata": {
  "kernelspec": {
   "display_name": "Python 3",
   "language": "python",
   "name": "python3"
  },
  "language_info": {
   "codemirror_mode": {
    "name": "ipython",
    "version": 3
   },
   "file_extension": ".py",
   "mimetype": "text/x-python",
   "name": "python",
   "nbconvert_exporter": "python",
   "pygments_lexer": "ipython3",
   "version": "3.7.6"
  }
 },
 "nbformat": 4,
 "nbformat_minor": 4
}
