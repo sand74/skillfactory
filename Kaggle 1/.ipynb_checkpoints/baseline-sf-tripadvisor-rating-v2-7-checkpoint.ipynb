{
 "cells": [
  {
   "cell_type": "markdown",
   "metadata": {},
   "source": [
    "![](https://www.pata.org/wp-content/uploads/2014/09/TripAdvisor_Logo-300x119.png)\n",
    "# Predict TripAdvisor Rating\n",
    "## В этом соревновании нам предстоит предсказать рейтинг ресторана в TripAdvisor\n",
    "**По ходу задачи:**\n",
    "* Прокачаем работу с pandas\n",
    "* Научимся работать с Kaggle Notebooks\n",
    "* Поймем как делать предобработку различных данных\n",
    "* Научимся работать с пропущенными данными (Nan)\n",
    "* Познакомимся с различными видами кодирования признаков\n",
    "* Немного попробуем [Feature Engineering](https://ru.wikipedia.org/wiki/Конструирование_признаков) (генерировать новые признаки)\n",
    "* И совсем немного затронем ML\n",
    "* И многое другое...   \n",
    "\n",
    "\n",
    "\n",
    "### И самое важное, все это вы сможете сделать самостоятельно!\n",
    "\n",
    "*Этот Ноутбук являетсся Примером/Шаблоном к этому соревнованию (Baseline) и не служит готовым решением!*   \n",
    "Вы можете использовать его как основу для построения своего решения.\n",
    "\n",
    "> что такое baseline решение, зачем оно нужно и почему предоставлять baseline к соревнованию стало важным стандартом на kaggle и других площадках.   \n",
    "**baseline** создается больше как шаблон, где можно посмотреть как происходит обращение с входящими данными и что нужно получить на выходе. При этом МЛ начинка может быть достаточно простой, просто для примера. Это помогает быстрее приступить к самому МЛ, а не тратить ценное время на чисто инженерные задачи. \n",
    "Также baseline являеться хорошей опорной точкой по метрике. Если твое решение хуже baseline - ты явно делаешь что-то не то и стоит попробовать другой путь) \n",
    "\n",
    "В контексте нашего соревнования baseline идет с небольшими примерами того, что можно делать с данными, и с инструкцией, что делать дальше, чтобы улучшить результат.  Вообще готовым решением это сложно назвать, так как используются всего 2 самых простых признака (а остальные исключаются)."
   ]
  },
  {
   "cell_type": "markdown",
   "metadata": {},
   "source": [
    "# import"
   ]
  },
  {
   "cell_type": "code",
   "execution_count": 796,
   "metadata": {
    "_cell_guid": "b1076dfc-b9ad-4769-8c92-a6c4dae69d19",
    "_uuid": "8f2839f25d086af736a60e9eeb907d3b93b6e0e5"
   },
   "outputs": [],
   "source": [
    "# This Python 3 environment comes with many helpful analytics libraries installed\n",
    "# It is defined by the kaggle/python docker image: https://github.com/kaggle/docker-python\n",
    "# For example, here's several helpful packages to load in \n",
    "\n",
    "import numpy as np # linear algebra\n",
    "import pandas as pd # data processing, CSV file I/O (e.g. pd.read_csv)\n",
    "\n",
    "import matplotlib.pyplot as plt\n",
    "import seaborn as sns \n",
    "%matplotlib inline\n",
    "\n",
    "# Загружаем специальный удобный инструмент для разделения датасета:\n",
    "from sklearn.model_selection import train_test_split\n",
    "\n",
    "# Input data files are available in the \"../input/\" directory.\n",
    "# For example, running this (by clicking run or pressing Shift+Enter) will list all files under the input directory\n",
    "\n",
    "import os\n",
    "for dirname, _, filenames in os.walk('/kaggle/input'):\n",
    "    for filename in filenames:\n",
    "        print(os.path.join(dirname, filename))\n",
    "\n",
    "# Any results you write to the current directory are saved as output."
   ]
  },
  {
   "cell_type": "code",
   "execution_count": 797,
   "metadata": {},
   "outputs": [],
   "source": [
    "# всегда фиксируйте RANDOM_SEED, чтобы ваши эксперименты были воспроизводимы!\n",
    "RANDOM_SEED = 42"
   ]
  },
  {
   "cell_type": "code",
   "execution_count": 798,
   "metadata": {},
   "outputs": [
    {
     "name": "stdout",
     "output_type": "stream",
     "text": [
      "\u001b[33mWARNING: Could not generate requirement for distribution -otobuf 3.0.0 (/Users/sand/opt/anaconda3/lib/python3.7/site-packages): Parse error at \"'-otobuf='\": Expected W:(abcd...)\u001b[0m\r\n",
      "\u001b[33mWARNING: Could not generate requirement for distribution -umpy 1.19.0 (/Users/sand/opt/anaconda3/lib/python3.7/site-packages): Parse error at \"'-umpy==1'\": Expected W:(abcd...)\u001b[0m\r\n",
      "\u001b[33mWARNING: Could not generate requirement for distribution -rotobuf 3.0.0 (/Users/sand/opt/anaconda3/lib/python3.7/site-packages): Parse error at \"'-rotobuf'\": Expected W:(abcd...)\u001b[0m\r\n",
      "\u001b[33mWARNING: Could not generate requirement for distribution -qdm 4.46.1 (/Users/sand/opt/anaconda3/lib/python3.7/site-packages): Parse error at \"'-qdm==4.'\": Expected W:(abcd...)\u001b[0m\r\n",
      "\u001b[33mWARNING: Could not generate requirement for distribution - otobuf (/Users/sand/opt/anaconda3/lib/python3.7/site-packages): Parse error at \"'-===otob'\": Expected W:(abcd...)\u001b[0m\r\n"
     ]
    }
   ],
   "source": [
    "# зафиксируем версию пакетов, чтобы эксперименты были воспроизводимы:\n",
    "!pip freeze > requirements.txt"
   ]
  },
  {
   "cell_type": "markdown",
   "metadata": {},
   "source": [
    "# DATA"
   ]
  },
  {
   "cell_type": "code",
   "execution_count": 799,
   "metadata": {
    "_cell_guid": "79c7e3d0-c299-4dcb-8224-4455121ee9b0",
    "_uuid": "d629ff2d2480ee46fbb7e2d37f6b5fab8052498a"
   },
   "outputs": [],
   "source": [
    "#DATA_DIR = '/kaggle/input/sf-dst-restaurant-rating/'\n",
    "DATA_DIR = ''\n",
    "df_train = pd.read_csv(DATA_DIR+'main_task.csv')\n",
    "df_test = pd.read_csv(DATA_DIR+'kaggle_task.csv')\n",
    "sample_submission = pd.read_csv(DATA_DIR+'sample_submission.csv')"
   ]
  },
  {
   "cell_type": "code",
   "execution_count": 800,
   "metadata": {},
   "outputs": [
    {
     "name": "stdout",
     "output_type": "stream",
     "text": [
      "<class 'pandas.core.frame.DataFrame'>\n",
      "RangeIndex: 40000 entries, 0 to 39999\n",
      "Data columns (total 10 columns):\n",
      " #   Column             Non-Null Count  Dtype  \n",
      "---  ------             --------------  -----  \n",
      " 0   Restaurant_id      40000 non-null  object \n",
      " 1   City               40000 non-null  object \n",
      " 2   Cuisine Style      30717 non-null  object \n",
      " 3   Ranking            40000 non-null  float64\n",
      " 4   Rating             40000 non-null  float64\n",
      " 5   Price Range        26114 non-null  object \n",
      " 6   Number of Reviews  37457 non-null  float64\n",
      " 7   Reviews            40000 non-null  object \n",
      " 8   URL_TA             40000 non-null  object \n",
      " 9   ID_TA              40000 non-null  object \n",
      "dtypes: float64(3), object(7)\n",
      "memory usage: 3.1+ MB\n"
     ]
    }
   ],
   "source": [
    "df_train.info()"
   ]
  },
  {
   "cell_type": "code",
   "execution_count": 801,
   "metadata": {},
   "outputs": [
    {
     "data": {
      "text/html": [
       "<div>\n",
       "<style scoped>\n",
       "    .dataframe tbody tr th:only-of-type {\n",
       "        vertical-align: middle;\n",
       "    }\n",
       "\n",
       "    .dataframe tbody tr th {\n",
       "        vertical-align: top;\n",
       "    }\n",
       "\n",
       "    .dataframe thead th {\n",
       "        text-align: right;\n",
       "    }\n",
       "</style>\n",
       "<table border=\"1\" class=\"dataframe\">\n",
       "  <thead>\n",
       "    <tr style=\"text-align: right;\">\n",
       "      <th></th>\n",
       "      <th>Restaurant_id</th>\n",
       "      <th>City</th>\n",
       "      <th>Cuisine Style</th>\n",
       "      <th>Ranking</th>\n",
       "      <th>Rating</th>\n",
       "      <th>Price Range</th>\n",
       "      <th>Number of Reviews</th>\n",
       "      <th>Reviews</th>\n",
       "      <th>URL_TA</th>\n",
       "      <th>ID_TA</th>\n",
       "    </tr>\n",
       "  </thead>\n",
       "  <tbody>\n",
       "    <tr>\n",
       "      <th>0</th>\n",
       "      <td>id_5569</td>\n",
       "      <td>Paris</td>\n",
       "      <td>['European', 'French', 'International']</td>\n",
       "      <td>5570.0</td>\n",
       "      <td>3.5</td>\n",
       "      <td>$$ - $$$</td>\n",
       "      <td>194.0</td>\n",
       "      <td>[['Good food at your doorstep', 'A good hotel ...</td>\n",
       "      <td>/Restaurant_Review-g187147-d1912643-Reviews-R_...</td>\n",
       "      <td>d1912643</td>\n",
       "    </tr>\n",
       "    <tr>\n",
       "      <th>1</th>\n",
       "      <td>id_1535</td>\n",
       "      <td>Stockholm</td>\n",
       "      <td>NaN</td>\n",
       "      <td>1537.0</td>\n",
       "      <td>4.0</td>\n",
       "      <td>NaN</td>\n",
       "      <td>10.0</td>\n",
       "      <td>[['Unique cuisine', 'Delicious Nepalese food']...</td>\n",
       "      <td>/Restaurant_Review-g189852-d7992032-Reviews-Bu...</td>\n",
       "      <td>d7992032</td>\n",
       "    </tr>\n",
       "    <tr>\n",
       "      <th>2</th>\n",
       "      <td>id_352</td>\n",
       "      <td>London</td>\n",
       "      <td>['Japanese', 'Sushi', 'Asian', 'Grill', 'Veget...</td>\n",
       "      <td>353.0</td>\n",
       "      <td>4.5</td>\n",
       "      <td>$$$$</td>\n",
       "      <td>688.0</td>\n",
       "      <td>[['Catch up with friends', 'Not exceptional'],...</td>\n",
       "      <td>/Restaurant_Review-g186338-d8632781-Reviews-RO...</td>\n",
       "      <td>d8632781</td>\n",
       "    </tr>\n",
       "    <tr>\n",
       "      <th>3</th>\n",
       "      <td>id_3456</td>\n",
       "      <td>Berlin</td>\n",
       "      <td>NaN</td>\n",
       "      <td>3458.0</td>\n",
       "      <td>5.0</td>\n",
       "      <td>NaN</td>\n",
       "      <td>3.0</td>\n",
       "      <td>[[], []]</td>\n",
       "      <td>/Restaurant_Review-g187323-d1358776-Reviews-Es...</td>\n",
       "      <td>d1358776</td>\n",
       "    </tr>\n",
       "    <tr>\n",
       "      <th>4</th>\n",
       "      <td>id_615</td>\n",
       "      <td>Munich</td>\n",
       "      <td>['German', 'Central European', 'Vegetarian Fri...</td>\n",
       "      <td>621.0</td>\n",
       "      <td>4.0</td>\n",
       "      <td>$$ - $$$</td>\n",
       "      <td>84.0</td>\n",
       "      <td>[['Best place to try a Bavarian food', 'Nice b...</td>\n",
       "      <td>/Restaurant_Review-g187309-d6864963-Reviews-Au...</td>\n",
       "      <td>d6864963</td>\n",
       "    </tr>\n",
       "  </tbody>\n",
       "</table>\n",
       "</div>"
      ],
      "text/plain": [
       "  Restaurant_id       City                                      Cuisine Style  \\\n",
       "0       id_5569      Paris            ['European', 'French', 'International']   \n",
       "1       id_1535  Stockholm                                                NaN   \n",
       "2        id_352     London  ['Japanese', 'Sushi', 'Asian', 'Grill', 'Veget...   \n",
       "3       id_3456     Berlin                                                NaN   \n",
       "4        id_615     Munich  ['German', 'Central European', 'Vegetarian Fri...   \n",
       "\n",
       "   Ranking  Rating Price Range  Number of Reviews  \\\n",
       "0   5570.0     3.5    $$ - $$$              194.0   \n",
       "1   1537.0     4.0         NaN               10.0   \n",
       "2    353.0     4.5        $$$$              688.0   \n",
       "3   3458.0     5.0         NaN                3.0   \n",
       "4    621.0     4.0    $$ - $$$               84.0   \n",
       "\n",
       "                                             Reviews  \\\n",
       "0  [['Good food at your doorstep', 'A good hotel ...   \n",
       "1  [['Unique cuisine', 'Delicious Nepalese food']...   \n",
       "2  [['Catch up with friends', 'Not exceptional'],...   \n",
       "3                                           [[], []]   \n",
       "4  [['Best place to try a Bavarian food', 'Nice b...   \n",
       "\n",
       "                                              URL_TA     ID_TA  \n",
       "0  /Restaurant_Review-g187147-d1912643-Reviews-R_...  d1912643  \n",
       "1  /Restaurant_Review-g189852-d7992032-Reviews-Bu...  d7992032  \n",
       "2  /Restaurant_Review-g186338-d8632781-Reviews-RO...  d8632781  \n",
       "3  /Restaurant_Review-g187323-d1358776-Reviews-Es...  d1358776  \n",
       "4  /Restaurant_Review-g187309-d6864963-Reviews-Au...  d6864963  "
      ]
     },
     "execution_count": 801,
     "metadata": {},
     "output_type": "execute_result"
    }
   ],
   "source": [
    "df_train.head(5)"
   ]
  },
  {
   "cell_type": "code",
   "execution_count": 802,
   "metadata": {},
   "outputs": [
    {
     "name": "stdout",
     "output_type": "stream",
     "text": [
      "<class 'pandas.core.frame.DataFrame'>\n",
      "RangeIndex: 10000 entries, 0 to 9999\n",
      "Data columns (total 9 columns):\n",
      " #   Column             Non-Null Count  Dtype  \n",
      "---  ------             --------------  -----  \n",
      " 0   Restaurant_id      10000 non-null  object \n",
      " 1   City               10000 non-null  object \n",
      " 2   Cuisine Style      7693 non-null   object \n",
      " 3   Ranking            10000 non-null  float64\n",
      " 4   Price Range        6525 non-null   object \n",
      " 5   Number of Reviews  9343 non-null   float64\n",
      " 6   Reviews            9998 non-null   object \n",
      " 7   URL_TA             10000 non-null  object \n",
      " 8   ID_TA              10000 non-null  object \n",
      "dtypes: float64(2), object(7)\n",
      "memory usage: 703.2+ KB\n"
     ]
    }
   ],
   "source": [
    "df_test.info()"
   ]
  },
  {
   "cell_type": "code",
   "execution_count": 803,
   "metadata": {},
   "outputs": [
    {
     "data": {
      "text/html": [
       "<div>\n",
       "<style scoped>\n",
       "    .dataframe tbody tr th:only-of-type {\n",
       "        vertical-align: middle;\n",
       "    }\n",
       "\n",
       "    .dataframe tbody tr th {\n",
       "        vertical-align: top;\n",
       "    }\n",
       "\n",
       "    .dataframe thead th {\n",
       "        text-align: right;\n",
       "    }\n",
       "</style>\n",
       "<table border=\"1\" class=\"dataframe\">\n",
       "  <thead>\n",
       "    <tr style=\"text-align: right;\">\n",
       "      <th></th>\n",
       "      <th>Restaurant_id</th>\n",
       "      <th>City</th>\n",
       "      <th>Cuisine Style</th>\n",
       "      <th>Ranking</th>\n",
       "      <th>Price Range</th>\n",
       "      <th>Number of Reviews</th>\n",
       "      <th>Reviews</th>\n",
       "      <th>URL_TA</th>\n",
       "      <th>ID_TA</th>\n",
       "    </tr>\n",
       "  </thead>\n",
       "  <tbody>\n",
       "    <tr>\n",
       "      <th>0</th>\n",
       "      <td>id_0</td>\n",
       "      <td>Paris</td>\n",
       "      <td>['Bar', 'Pub']</td>\n",
       "      <td>12963.0</td>\n",
       "      <td>$$ - $$$</td>\n",
       "      <td>4.0</td>\n",
       "      <td>[[], []]</td>\n",
       "      <td>/Restaurant_Review-g187147-d10746918-Reviews-L...</td>\n",
       "      <td>d10746918</td>\n",
       "    </tr>\n",
       "    <tr>\n",
       "      <th>1</th>\n",
       "      <td>id_1</td>\n",
       "      <td>Helsinki</td>\n",
       "      <td>['European', 'Scandinavian', 'Gluten Free Opti...</td>\n",
       "      <td>106.0</td>\n",
       "      <td>$$ - $$$</td>\n",
       "      <td>97.0</td>\n",
       "      <td>[['Very good reviews!', 'Fine dining in Hakani...</td>\n",
       "      <td>/Restaurant_Review-g189934-d6674944-Reviews-Ra...</td>\n",
       "      <td>d6674944</td>\n",
       "    </tr>\n",
       "    <tr>\n",
       "      <th>2</th>\n",
       "      <td>id_2</td>\n",
       "      <td>Edinburgh</td>\n",
       "      <td>['Vegetarian Friendly']</td>\n",
       "      <td>810.0</td>\n",
       "      <td>$$ - $$$</td>\n",
       "      <td>28.0</td>\n",
       "      <td>[['Better than the Links', 'Ivy Black'], ['12/...</td>\n",
       "      <td>/Restaurant_Review-g186525-d13129638-Reviews-B...</td>\n",
       "      <td>d13129638</td>\n",
       "    </tr>\n",
       "    <tr>\n",
       "      <th>3</th>\n",
       "      <td>id_3</td>\n",
       "      <td>London</td>\n",
       "      <td>['Italian', 'Mediterranean', 'European', 'Vege...</td>\n",
       "      <td>1669.0</td>\n",
       "      <td>$$$$</td>\n",
       "      <td>202.0</td>\n",
       "      <td>[['Most exquisite', 'Delicious and authentic']...</td>\n",
       "      <td>/Restaurant_Review-g186338-d680417-Reviews-Qui...</td>\n",
       "      <td>d680417</td>\n",
       "    </tr>\n",
       "    <tr>\n",
       "      <th>4</th>\n",
       "      <td>id_4</td>\n",
       "      <td>Bratislava</td>\n",
       "      <td>['Italian', 'Mediterranean', 'European', 'Seaf...</td>\n",
       "      <td>37.0</td>\n",
       "      <td>$$$$</td>\n",
       "      <td>162.0</td>\n",
       "      <td>[['Always the best in bratislava', 'Very good ...</td>\n",
       "      <td>/Restaurant_Review-g274924-d1112354-Reviews-Ma...</td>\n",
       "      <td>d1112354</td>\n",
       "    </tr>\n",
       "  </tbody>\n",
       "</table>\n",
       "</div>"
      ],
      "text/plain": [
       "  Restaurant_id        City  \\\n",
       "0          id_0       Paris   \n",
       "1          id_1    Helsinki   \n",
       "2          id_2   Edinburgh   \n",
       "3          id_3      London   \n",
       "4          id_4  Bratislava   \n",
       "\n",
       "                                       Cuisine Style  Ranking Price Range  \\\n",
       "0                                     ['Bar', 'Pub']  12963.0    $$ - $$$   \n",
       "1  ['European', 'Scandinavian', 'Gluten Free Opti...    106.0    $$ - $$$   \n",
       "2                            ['Vegetarian Friendly']    810.0    $$ - $$$   \n",
       "3  ['Italian', 'Mediterranean', 'European', 'Vege...   1669.0        $$$$   \n",
       "4  ['Italian', 'Mediterranean', 'European', 'Seaf...     37.0        $$$$   \n",
       "\n",
       "   Number of Reviews                                            Reviews  \\\n",
       "0                4.0                                           [[], []]   \n",
       "1               97.0  [['Very good reviews!', 'Fine dining in Hakani...   \n",
       "2               28.0  [['Better than the Links', 'Ivy Black'], ['12/...   \n",
       "3              202.0  [['Most exquisite', 'Delicious and authentic']...   \n",
       "4              162.0  [['Always the best in bratislava', 'Very good ...   \n",
       "\n",
       "                                              URL_TA      ID_TA  \n",
       "0  /Restaurant_Review-g187147-d10746918-Reviews-L...  d10746918  \n",
       "1  /Restaurant_Review-g189934-d6674944-Reviews-Ra...   d6674944  \n",
       "2  /Restaurant_Review-g186525-d13129638-Reviews-B...  d13129638  \n",
       "3  /Restaurant_Review-g186338-d680417-Reviews-Qui...    d680417  \n",
       "4  /Restaurant_Review-g274924-d1112354-Reviews-Ma...   d1112354  "
      ]
     },
     "execution_count": 803,
     "metadata": {},
     "output_type": "execute_result"
    }
   ],
   "source": [
    "df_test.head(5)"
   ]
  },
  {
   "cell_type": "code",
   "execution_count": 804,
   "metadata": {},
   "outputs": [
    {
     "data": {
      "text/html": [
       "<div>\n",
       "<style scoped>\n",
       "    .dataframe tbody tr th:only-of-type {\n",
       "        vertical-align: middle;\n",
       "    }\n",
       "\n",
       "    .dataframe tbody tr th {\n",
       "        vertical-align: top;\n",
       "    }\n",
       "\n",
       "    .dataframe thead th {\n",
       "        text-align: right;\n",
       "    }\n",
       "</style>\n",
       "<table border=\"1\" class=\"dataframe\">\n",
       "  <thead>\n",
       "    <tr style=\"text-align: right;\">\n",
       "      <th></th>\n",
       "      <th>Restaurant_id</th>\n",
       "      <th>Rating</th>\n",
       "    </tr>\n",
       "  </thead>\n",
       "  <tbody>\n",
       "    <tr>\n",
       "      <th>0</th>\n",
       "      <td>id_0</td>\n",
       "      <td>2.0</td>\n",
       "    </tr>\n",
       "    <tr>\n",
       "      <th>1</th>\n",
       "      <td>id_1</td>\n",
       "      <td>2.5</td>\n",
       "    </tr>\n",
       "    <tr>\n",
       "      <th>2</th>\n",
       "      <td>id_2</td>\n",
       "      <td>4.0</td>\n",
       "    </tr>\n",
       "    <tr>\n",
       "      <th>3</th>\n",
       "      <td>id_3</td>\n",
       "      <td>1.0</td>\n",
       "    </tr>\n",
       "    <tr>\n",
       "      <th>4</th>\n",
       "      <td>id_4</td>\n",
       "      <td>4.0</td>\n",
       "    </tr>\n",
       "  </tbody>\n",
       "</table>\n",
       "</div>"
      ],
      "text/plain": [
       "  Restaurant_id  Rating\n",
       "0          id_0     2.0\n",
       "1          id_1     2.5\n",
       "2          id_2     4.0\n",
       "3          id_3     1.0\n",
       "4          id_4     4.0"
      ]
     },
     "execution_count": 804,
     "metadata": {},
     "output_type": "execute_result"
    }
   ],
   "source": [
    "sample_submission.head(5)"
   ]
  },
  {
   "cell_type": "code",
   "execution_count": 805,
   "metadata": {},
   "outputs": [
    {
     "name": "stdout",
     "output_type": "stream",
     "text": [
      "<class 'pandas.core.frame.DataFrame'>\n",
      "RangeIndex: 10000 entries, 0 to 9999\n",
      "Data columns (total 2 columns):\n",
      " #   Column         Non-Null Count  Dtype  \n",
      "---  ------         --------------  -----  \n",
      " 0   Restaurant_id  10000 non-null  object \n",
      " 1   Rating         10000 non-null  float64\n",
      "dtypes: float64(1), object(1)\n",
      "memory usage: 156.4+ KB\n"
     ]
    }
   ],
   "source": [
    "sample_submission.info()"
   ]
  },
  {
   "cell_type": "code",
   "execution_count": 806,
   "metadata": {},
   "outputs": [],
   "source": [
    "# ВАЖНО! дря корректной обработки признаков объединяем трейн и тест в один датасет\n",
    "df_train['sample'] = 1 # помечаем где у нас трейн\n",
    "df_test['sample'] = 0 # помечаем где у нас тест\n",
    "df_test['Rating'] = 0 # в тесте у нас нет значения Rating, мы его должны предсказать, по этому пока просто заполняем нулями\n",
    "\n",
    "data = df_test.append(df_train, sort=False).reset_index(drop=True) # объединяем"
   ]
  },
  {
   "cell_type": "code",
   "execution_count": 807,
   "metadata": {},
   "outputs": [
    {
     "name": "stdout",
     "output_type": "stream",
     "text": [
      "<class 'pandas.core.frame.DataFrame'>\n",
      "RangeIndex: 50000 entries, 0 to 49999\n",
      "Data columns (total 11 columns):\n",
      " #   Column             Non-Null Count  Dtype  \n",
      "---  ------             --------------  -----  \n",
      " 0   Restaurant_id      50000 non-null  object \n",
      " 1   City               50000 non-null  object \n",
      " 2   Cuisine Style      38410 non-null  object \n",
      " 3   Ranking            50000 non-null  float64\n",
      " 4   Price Range        32639 non-null  object \n",
      " 5   Number of Reviews  46800 non-null  float64\n",
      " 6   Reviews            49998 non-null  object \n",
      " 7   URL_TA             50000 non-null  object \n",
      " 8   ID_TA              50000 non-null  object \n",
      " 9   sample             50000 non-null  int64  \n",
      " 10  Rating             50000 non-null  float64\n",
      "dtypes: float64(3), int64(1), object(7)\n",
      "memory usage: 4.2+ MB\n"
     ]
    }
   ],
   "source": [
    "data.info()"
   ]
  },
  {
   "cell_type": "markdown",
   "metadata": {},
   "source": [
    "Подробнее по признакам:\n",
    "* City: Город \n",
    "* Cuisine Style: Кухня\n",
    "* Ranking: Ранг ресторана относительно других ресторанов в этом городе\n",
    "* Price Range: Цены в ресторане в 3 категориях\n",
    "* Number of Reviews: Количество отзывов\n",
    "* Reviews: 2 последних отзыва и даты этих отзывов\n",
    "* URL_TA: страница ресторана на 'www.tripadvisor.com' \n",
    "* ID_TA: ID ресторана в TripAdvisor\n",
    "* Rating: Рейтинг ресторана"
   ]
  },
  {
   "cell_type": "code",
   "execution_count": 808,
   "metadata": {},
   "outputs": [
    {
     "data": {
      "text/html": [
       "<div>\n",
       "<style scoped>\n",
       "    .dataframe tbody tr th:only-of-type {\n",
       "        vertical-align: middle;\n",
       "    }\n",
       "\n",
       "    .dataframe tbody tr th {\n",
       "        vertical-align: top;\n",
       "    }\n",
       "\n",
       "    .dataframe thead th {\n",
       "        text-align: right;\n",
       "    }\n",
       "</style>\n",
       "<table border=\"1\" class=\"dataframe\">\n",
       "  <thead>\n",
       "    <tr style=\"text-align: right;\">\n",
       "      <th></th>\n",
       "      <th>Restaurant_id</th>\n",
       "      <th>City</th>\n",
       "      <th>Cuisine Style</th>\n",
       "      <th>Ranking</th>\n",
       "      <th>Price Range</th>\n",
       "      <th>Number of Reviews</th>\n",
       "      <th>Reviews</th>\n",
       "      <th>URL_TA</th>\n",
       "      <th>ID_TA</th>\n",
       "      <th>sample</th>\n",
       "      <th>Rating</th>\n",
       "    </tr>\n",
       "  </thead>\n",
       "  <tbody>\n",
       "    <tr>\n",
       "      <th>13397</th>\n",
       "      <td>id_6198</td>\n",
       "      <td>Milan</td>\n",
       "      <td>NaN</td>\n",
       "      <td>6202.0</td>\n",
       "      <td>NaN</td>\n",
       "      <td>57.0</td>\n",
       "      <td>[['Extremely expensive!', \"DON'T GO!!!!!!! ABS...</td>\n",
       "      <td>/Restaurant_Review-g187849-d8611027-Reviews-Il...</td>\n",
       "      <td>d8611027</td>\n",
       "      <td>1</td>\n",
       "      <td>1.5</td>\n",
       "    </tr>\n",
       "    <tr>\n",
       "      <th>32522</th>\n",
       "      <td>id_13746</td>\n",
       "      <td>Paris</td>\n",
       "      <td>['French']</td>\n",
       "      <td>13748.0</td>\n",
       "      <td>NaN</td>\n",
       "      <td>2.0</td>\n",
       "      <td>[['Probably one of the worst experiences we h....</td>\n",
       "      <td>/Restaurant_Review-g187147-d7747579-Reviews-Le...</td>\n",
       "      <td>d7747579</td>\n",
       "      <td>1</td>\n",
       "      <td>2.0</td>\n",
       "    </tr>\n",
       "    <tr>\n",
       "      <th>33835</th>\n",
       "      <td>id_128</td>\n",
       "      <td>Ljubljana</td>\n",
       "      <td>['Barbecue', 'Slovenian', 'Eastern European', ...</td>\n",
       "      <td>129.0</td>\n",
       "      <td>$</td>\n",
       "      <td>21.0</td>\n",
       "      <td>[['Best traditional food', 'Delicious balkan k...</td>\n",
       "      <td>/Restaurant_Review-g274873-d10787062-Reviews-S...</td>\n",
       "      <td>d10787062</td>\n",
       "      <td>1</td>\n",
       "      <td>4.5</td>\n",
       "    </tr>\n",
       "    <tr>\n",
       "      <th>25755</th>\n",
       "      <td>id_10636</td>\n",
       "      <td>Paris</td>\n",
       "      <td>['Moroccan', 'Mediterranean']</td>\n",
       "      <td>10638.0</td>\n",
       "      <td>NaN</td>\n",
       "      <td>3.0</td>\n",
       "      <td>[[], []]</td>\n",
       "      <td>/Restaurant_Review-g187147-d5503581-Reviews-Re...</td>\n",
       "      <td>d5503581</td>\n",
       "      <td>1</td>\n",
       "      <td>4.0</td>\n",
       "    </tr>\n",
       "    <tr>\n",
       "      <th>33193</th>\n",
       "      <td>id_1136</td>\n",
       "      <td>Zurich</td>\n",
       "      <td>NaN</td>\n",
       "      <td>1141.0</td>\n",
       "      <td>NaN</td>\n",
       "      <td>5.0</td>\n",
       "      <td>[['Nice spot for drinks and to hangout on a h....</td>\n",
       "      <td>/Restaurant_Review-g188113-d11859886-Reviews-S...</td>\n",
       "      <td>d11859886</td>\n",
       "      <td>1</td>\n",
       "      <td>4.0</td>\n",
       "    </tr>\n",
       "  </tbody>\n",
       "</table>\n",
       "</div>"
      ],
      "text/plain": [
       "      Restaurant_id       City  \\\n",
       "13397       id_6198      Milan   \n",
       "32522      id_13746      Paris   \n",
       "33835        id_128  Ljubljana   \n",
       "25755      id_10636      Paris   \n",
       "33193       id_1136     Zurich   \n",
       "\n",
       "                                           Cuisine Style  Ranking Price Range  \\\n",
       "13397                                                NaN   6202.0         NaN   \n",
       "32522                                         ['French']  13748.0         NaN   \n",
       "33835  ['Barbecue', 'Slovenian', 'Eastern European', ...    129.0           $   \n",
       "25755                      ['Moroccan', 'Mediterranean']  10638.0         NaN   \n",
       "33193                                                NaN   1141.0         NaN   \n",
       "\n",
       "       Number of Reviews                                            Reviews  \\\n",
       "13397               57.0  [['Extremely expensive!', \"DON'T GO!!!!!!! ABS...   \n",
       "32522                2.0  [['Probably one of the worst experiences we h....   \n",
       "33835               21.0  [['Best traditional food', 'Delicious balkan k...   \n",
       "25755                3.0                                           [[], []]   \n",
       "33193                5.0  [['Nice spot for drinks and to hangout on a h....   \n",
       "\n",
       "                                                  URL_TA      ID_TA  sample  \\\n",
       "13397  /Restaurant_Review-g187849-d8611027-Reviews-Il...   d8611027       1   \n",
       "32522  /Restaurant_Review-g187147-d7747579-Reviews-Le...   d7747579       1   \n",
       "33835  /Restaurant_Review-g274873-d10787062-Reviews-S...  d10787062       1   \n",
       "25755  /Restaurant_Review-g187147-d5503581-Reviews-Re...   d5503581       1   \n",
       "33193  /Restaurant_Review-g188113-d11859886-Reviews-S...  d11859886       1   \n",
       "\n",
       "       Rating  \n",
       "13397     1.5  \n",
       "32522     2.0  \n",
       "33835     4.5  \n",
       "25755     4.0  \n",
       "33193     4.0  "
      ]
     },
     "execution_count": 808,
     "metadata": {},
     "output_type": "execute_result"
    }
   ],
   "source": [
    "data.sample(5)"
   ]
  },
  {
   "cell_type": "code",
   "execution_count": 809,
   "metadata": {},
   "outputs": [
    {
     "data": {
      "text/plain": [
       "\"[['Very good reviews!', 'Fine dining in Hakaniemi'], ['12/05/2017', '10/29/2017']]\""
      ]
     },
     "execution_count": 809,
     "metadata": {},
     "output_type": "execute_result"
    }
   ],
   "source": [
    "data.Reviews[1]"
   ]
  },
  {
   "cell_type": "markdown",
   "metadata": {},
   "source": [
    "Как видим, большинство признаков у нас требует очистки и предварительной обработки."
   ]
  },
  {
   "cell_type": "markdown",
   "metadata": {},
   "source": [
    "# Cleaning and Prepping Data\n",
    "Обычно данные содержат в себе кучу мусора, который необходимо почистить, для того чтобы привести их в приемлемый формат. Чистка данных — это необходимый этап решения почти любой реальной задачи.   \n",
    "![](https://analyticsindiamag.com/wp-content/uploads/2018/01/data-cleaning.png)"
   ]
  },
  {
   "cell_type": "markdown",
   "metadata": {},
   "source": [
    "## 1. Обработка NAN \n",
    "У наличия пропусков могут быть разные причины, но пропуски нужно либо заполнить, либо исключить из набора полностью. Но с пропусками нужно быть внимательным, **даже отсутствие информации может быть важным признаком!**   \n",
    "По этому перед обработкой NAN лучше вынести информацию о наличии пропуска как отдельный признак "
   ]
  },
  {
   "cell_type": "code",
   "execution_count": 810,
   "metadata": {},
   "outputs": [
    {
     "data": {
      "text/plain": [
       "3200"
      ]
     },
     "execution_count": 810,
     "metadata": {},
     "output_type": "execute_result"
    }
   ],
   "source": [
    "# Для примера я возьму столбец Number of Reviews\n",
    "if data['Number of Reviews'].isna().sum() > 0:\n",
    "    data['Number_of_Reviews_isNAN'] = pd.isna(data['Number of Reviews']).astype('uint8')\n",
    "    #  Пробуем заменить медианой\n",
    "    data['Number of Reviews'].fillna(data['Number of Reviews'].median(), inplace=True)\n",
    "data['Number_of_Reviews_isNAN'].sum()"
   ]
  },
  {
   "cell_type": "code",
   "execution_count": 811,
   "metadata": {},
   "outputs": [
    {
     "data": {
      "text/plain": [
       "11590"
      ]
     },
     "execution_count": 811,
     "metadata": {},
     "output_type": "execute_result"
    }
   ],
   "source": [
    "if data['Cuisine Style'].isna().sum() > 0:\n",
    "    data['Cuisine_Style_isNAN'] =  pd.isna(data['Cuisine Style']).astype('uint8')\n",
    "    #  Заменяем на строку \"пустой список\", далее требуется обработка\n",
    "    data['Cuisine Style'].fillna('[unknown]', inplace=True)\n",
    "data['Cuisine_Style_isNAN'].sum()"
   ]
  },
  {
   "cell_type": "code",
   "execution_count": 812,
   "metadata": {},
   "outputs": [
    {
     "data": {
      "text/plain": [
       "2"
      ]
     },
     "execution_count": 812,
     "metadata": {},
     "output_type": "execute_result"
    }
   ],
   "source": [
    "if data['Reviews'].isna().sum() > 0:\n",
    "    data['Reviews_isNAN'] =  pd.isna(data['Reviews']).astype('uint8')\n",
    "    #  Заменяем на строку \"пустой список\", далее требуется обработка\n",
    "    data['Reviews'].fillna('[[], []]', inplace=True)\n",
    "data['Reviews_isNAN'].sum()"
   ]
  },
  {
   "cell_type": "code",
   "execution_count": 813,
   "metadata": {},
   "outputs": [
    {
     "data": {
      "text/plain": [
       "17361"
      ]
     },
     "execution_count": 813,
     "metadata": {},
     "output_type": "execute_result"
    }
   ],
   "source": [
    "if data['Price Range'].isna().sum() > 0:\n",
    "    data['Price_Range_isNAN'] =  pd.isna(data['Price Range']).astype('uint8')\n",
    "    #  Заменяем на строку \"-\", далее требуется обработка\n",
    "    data['Price Range'].fillna('-', inplace=True)\n",
    "data['Price_Range_isNAN'].sum()"
   ]
  },
  {
   "cell_type": "code",
   "execution_count": 814,
   "metadata": {},
   "outputs": [
    {
     "name": "stdout",
     "output_type": "stream",
     "text": [
      "<class 'pandas.core.frame.DataFrame'>\n",
      "RangeIndex: 50000 entries, 0 to 49999\n",
      "Data columns (total 15 columns):\n",
      " #   Column                   Non-Null Count  Dtype  \n",
      "---  ------                   --------------  -----  \n",
      " 0   Restaurant_id            50000 non-null  object \n",
      " 1   City                     50000 non-null  object \n",
      " 2   Cuisine Style            50000 non-null  object \n",
      " 3   Ranking                  50000 non-null  float64\n",
      " 4   Price Range              50000 non-null  object \n",
      " 5   Number of Reviews        50000 non-null  float64\n",
      " 6   Reviews                  50000 non-null  object \n",
      " 7   URL_TA                   50000 non-null  object \n",
      " 8   ID_TA                    50000 non-null  object \n",
      " 9   sample                   50000 non-null  int64  \n",
      " 10  Rating                   50000 non-null  float64\n",
      " 11  Number_of_Reviews_isNAN  50000 non-null  uint8  \n",
      " 12  Cuisine_Style_isNAN      50000 non-null  uint8  \n",
      " 13  Reviews_isNAN            50000 non-null  uint8  \n",
      " 14  Price_Range_isNAN        50000 non-null  uint8  \n",
      "dtypes: float64(3), int64(1), object(7), uint8(4)\n",
      "memory usage: 4.4+ MB\n"
     ]
    }
   ],
   "source": [
    "data.info()"
   ]
  },
  {
   "cell_type": "markdown",
   "metadata": {},
   "source": [
    "### 2. Обработка признаков\n",
    "Для начала посмотрим какие признаки у нас могут быть категориальными."
   ]
  },
  {
   "cell_type": "code",
   "execution_count": 815,
   "metadata": {},
   "outputs": [
    {
     "data": {
      "text/plain": [
       "Restaurant_id              13094\n",
       "City                          31\n",
       "Cuisine Style              10732\n",
       "Ranking                    12975\n",
       "Price Range                    4\n",
       "Number of Reviews           1573\n",
       "Reviews                    41857\n",
       "URL_TA                     49963\n",
       "ID_TA                      49963\n",
       "sample                         2\n",
       "Rating                        10\n",
       "Number_of_Reviews_isNAN        2\n",
       "Cuisine_Style_isNAN            2\n",
       "Reviews_isNAN                  2\n",
       "Price_Range_isNAN              2\n",
       "dtype: int64"
      ]
     },
     "execution_count": 815,
     "metadata": {},
     "output_type": "execute_result"
    }
   ],
   "source": [
    "data.nunique(dropna=False)"
   ]
  },
  {
   "cell_type": "markdown",
   "metadata": {},
   "source": [
    "Какие признаки можно считать категориальными?"
   ]
  },
  {
   "cell_type": "markdown",
   "metadata": {},
   "source": [
    "Для кодирования категориальных признаков есть множество подходов:\n",
    "* Label Encoding\n",
    "* One-Hot Encoding\n",
    "* Target Encoding\n",
    "* Hashing\n",
    "\n",
    "Выбор кодирования зависит от признака и выбраной модели.\n",
    "Не будем сейчас сильно погружаться в эту тематику, давайте посмотрим лучше пример с One-Hot Encoding:\n",
    "![](https://i.imgur.com/mtimFxh.png)"
   ]
  },
  {
   "cell_type": "code",
   "execution_count": 816,
   "metadata": {},
   "outputs": [],
   "source": [
    "# для One-Hot Encoding в pandas есть готовая функция - get_dummies. Особенно радует параметр dummy_na\n",
    "data['City copy'] = data['City']\n",
    "data = pd.get_dummies(data, columns=['City copy'], dummy_na=True)"
   ]
  },
  {
   "cell_type": "code",
   "execution_count": 817,
   "metadata": {},
   "outputs": [
    {
     "data": {
      "text/html": [
       "<div>\n",
       "<style scoped>\n",
       "    .dataframe tbody tr th:only-of-type {\n",
       "        vertical-align: middle;\n",
       "    }\n",
       "\n",
       "    .dataframe tbody tr th {\n",
       "        vertical-align: top;\n",
       "    }\n",
       "\n",
       "    .dataframe thead th {\n",
       "        text-align: right;\n",
       "    }\n",
       "</style>\n",
       "<table border=\"1\" class=\"dataframe\">\n",
       "  <thead>\n",
       "    <tr style=\"text-align: right;\">\n",
       "      <th></th>\n",
       "      <th>Restaurant_id</th>\n",
       "      <th>City</th>\n",
       "      <th>Cuisine Style</th>\n",
       "      <th>Ranking</th>\n",
       "      <th>Price Range</th>\n",
       "      <th>Number of Reviews</th>\n",
       "      <th>Reviews</th>\n",
       "      <th>URL_TA</th>\n",
       "      <th>ID_TA</th>\n",
       "      <th>sample</th>\n",
       "      <th>...</th>\n",
       "      <th>City copy_Oporto</th>\n",
       "      <th>City copy_Oslo</th>\n",
       "      <th>City copy_Paris</th>\n",
       "      <th>City copy_Prague</th>\n",
       "      <th>City copy_Rome</th>\n",
       "      <th>City copy_Stockholm</th>\n",
       "      <th>City copy_Vienna</th>\n",
       "      <th>City copy_Warsaw</th>\n",
       "      <th>City copy_Zurich</th>\n",
       "      <th>City copy_nan</th>\n",
       "    </tr>\n",
       "  </thead>\n",
       "  <tbody>\n",
       "    <tr>\n",
       "      <th>0</th>\n",
       "      <td>id_0</td>\n",
       "      <td>Paris</td>\n",
       "      <td>['Bar', 'Pub']</td>\n",
       "      <td>12963.0</td>\n",
       "      <td>$$ - $$$</td>\n",
       "      <td>4.0</td>\n",
       "      <td>[[], []]</td>\n",
       "      <td>/Restaurant_Review-g187147-d10746918-Reviews-L...</td>\n",
       "      <td>d10746918</td>\n",
       "      <td>0</td>\n",
       "      <td>...</td>\n",
       "      <td>0</td>\n",
       "      <td>0</td>\n",
       "      <td>1</td>\n",
       "      <td>0</td>\n",
       "      <td>0</td>\n",
       "      <td>0</td>\n",
       "      <td>0</td>\n",
       "      <td>0</td>\n",
       "      <td>0</td>\n",
       "      <td>0</td>\n",
       "    </tr>\n",
       "    <tr>\n",
       "      <th>1</th>\n",
       "      <td>id_1</td>\n",
       "      <td>Helsinki</td>\n",
       "      <td>['European', 'Scandinavian', 'Gluten Free Opti...</td>\n",
       "      <td>106.0</td>\n",
       "      <td>$$ - $$$</td>\n",
       "      <td>97.0</td>\n",
       "      <td>[['Very good reviews!', 'Fine dining in Hakani...</td>\n",
       "      <td>/Restaurant_Review-g189934-d6674944-Reviews-Ra...</td>\n",
       "      <td>d6674944</td>\n",
       "      <td>0</td>\n",
       "      <td>...</td>\n",
       "      <td>0</td>\n",
       "      <td>0</td>\n",
       "      <td>0</td>\n",
       "      <td>0</td>\n",
       "      <td>0</td>\n",
       "      <td>0</td>\n",
       "      <td>0</td>\n",
       "      <td>0</td>\n",
       "      <td>0</td>\n",
       "      <td>0</td>\n",
       "    </tr>\n",
       "    <tr>\n",
       "      <th>2</th>\n",
       "      <td>id_2</td>\n",
       "      <td>Edinburgh</td>\n",
       "      <td>['Vegetarian Friendly']</td>\n",
       "      <td>810.0</td>\n",
       "      <td>$$ - $$$</td>\n",
       "      <td>28.0</td>\n",
       "      <td>[['Better than the Links', 'Ivy Black'], ['12/...</td>\n",
       "      <td>/Restaurant_Review-g186525-d13129638-Reviews-B...</td>\n",
       "      <td>d13129638</td>\n",
       "      <td>0</td>\n",
       "      <td>...</td>\n",
       "      <td>0</td>\n",
       "      <td>0</td>\n",
       "      <td>0</td>\n",
       "      <td>0</td>\n",
       "      <td>0</td>\n",
       "      <td>0</td>\n",
       "      <td>0</td>\n",
       "      <td>0</td>\n",
       "      <td>0</td>\n",
       "      <td>0</td>\n",
       "    </tr>\n",
       "    <tr>\n",
       "      <th>3</th>\n",
       "      <td>id_3</td>\n",
       "      <td>London</td>\n",
       "      <td>['Italian', 'Mediterranean', 'European', 'Vege...</td>\n",
       "      <td>1669.0</td>\n",
       "      <td>$$$$</td>\n",
       "      <td>202.0</td>\n",
       "      <td>[['Most exquisite', 'Delicious and authentic']...</td>\n",
       "      <td>/Restaurant_Review-g186338-d680417-Reviews-Qui...</td>\n",
       "      <td>d680417</td>\n",
       "      <td>0</td>\n",
       "      <td>...</td>\n",
       "      <td>0</td>\n",
       "      <td>0</td>\n",
       "      <td>0</td>\n",
       "      <td>0</td>\n",
       "      <td>0</td>\n",
       "      <td>0</td>\n",
       "      <td>0</td>\n",
       "      <td>0</td>\n",
       "      <td>0</td>\n",
       "      <td>0</td>\n",
       "    </tr>\n",
       "    <tr>\n",
       "      <th>4</th>\n",
       "      <td>id_4</td>\n",
       "      <td>Bratislava</td>\n",
       "      <td>['Italian', 'Mediterranean', 'European', 'Seaf...</td>\n",
       "      <td>37.0</td>\n",
       "      <td>$$$$</td>\n",
       "      <td>162.0</td>\n",
       "      <td>[['Always the best in bratislava', 'Very good ...</td>\n",
       "      <td>/Restaurant_Review-g274924-d1112354-Reviews-Ma...</td>\n",
       "      <td>d1112354</td>\n",
       "      <td>0</td>\n",
       "      <td>...</td>\n",
       "      <td>0</td>\n",
       "      <td>0</td>\n",
       "      <td>0</td>\n",
       "      <td>0</td>\n",
       "      <td>0</td>\n",
       "      <td>0</td>\n",
       "      <td>0</td>\n",
       "      <td>0</td>\n",
       "      <td>0</td>\n",
       "      <td>0</td>\n",
       "    </tr>\n",
       "  </tbody>\n",
       "</table>\n",
       "<p>5 rows × 47 columns</p>\n",
       "</div>"
      ],
      "text/plain": [
       "  Restaurant_id        City  \\\n",
       "0          id_0       Paris   \n",
       "1          id_1    Helsinki   \n",
       "2          id_2   Edinburgh   \n",
       "3          id_3      London   \n",
       "4          id_4  Bratislava   \n",
       "\n",
       "                                       Cuisine Style  Ranking Price Range  \\\n",
       "0                                     ['Bar', 'Pub']  12963.0    $$ - $$$   \n",
       "1  ['European', 'Scandinavian', 'Gluten Free Opti...    106.0    $$ - $$$   \n",
       "2                            ['Vegetarian Friendly']    810.0    $$ - $$$   \n",
       "3  ['Italian', 'Mediterranean', 'European', 'Vege...   1669.0        $$$$   \n",
       "4  ['Italian', 'Mediterranean', 'European', 'Seaf...     37.0        $$$$   \n",
       "\n",
       "   Number of Reviews                                            Reviews  \\\n",
       "0                4.0                                           [[], []]   \n",
       "1               97.0  [['Very good reviews!', 'Fine dining in Hakani...   \n",
       "2               28.0  [['Better than the Links', 'Ivy Black'], ['12/...   \n",
       "3              202.0  [['Most exquisite', 'Delicious and authentic']...   \n",
       "4              162.0  [['Always the best in bratislava', 'Very good ...   \n",
       "\n",
       "                                              URL_TA      ID_TA  sample  ...  \\\n",
       "0  /Restaurant_Review-g187147-d10746918-Reviews-L...  d10746918       0  ...   \n",
       "1  /Restaurant_Review-g189934-d6674944-Reviews-Ra...   d6674944       0  ...   \n",
       "2  /Restaurant_Review-g186525-d13129638-Reviews-B...  d13129638       0  ...   \n",
       "3  /Restaurant_Review-g186338-d680417-Reviews-Qui...    d680417       0  ...   \n",
       "4  /Restaurant_Review-g274924-d1112354-Reviews-Ma...   d1112354       0  ...   \n",
       "\n",
       "   City copy_Oporto  City copy_Oslo  City copy_Paris  City copy_Prague  \\\n",
       "0                 0               0                1                 0   \n",
       "1                 0               0                0                 0   \n",
       "2                 0               0                0                 0   \n",
       "3                 0               0                0                 0   \n",
       "4                 0               0                0                 0   \n",
       "\n",
       "   City copy_Rome  City copy_Stockholm  City copy_Vienna  City copy_Warsaw  \\\n",
       "0               0                    0                 0                 0   \n",
       "1               0                    0                 0                 0   \n",
       "2               0                    0                 0                 0   \n",
       "3               0                    0                 0                 0   \n",
       "4               0                    0                 0                 0   \n",
       "\n",
       "   City copy_Zurich  City copy_nan  \n",
       "0                 0              0  \n",
       "1                 0              0  \n",
       "2                 0              0  \n",
       "3                 0              0  \n",
       "4                 0              0  \n",
       "\n",
       "[5 rows x 47 columns]"
      ]
     },
     "execution_count": 817,
     "metadata": {},
     "output_type": "execute_result"
    }
   ],
   "source": [
    "data.head(5)"
   ]
  },
  {
   "cell_type": "code",
   "execution_count": 818,
   "metadata": {},
   "outputs": [
    {
     "data": {
      "text/html": [
       "<div>\n",
       "<style scoped>\n",
       "    .dataframe tbody tr th:only-of-type {\n",
       "        vertical-align: middle;\n",
       "    }\n",
       "\n",
       "    .dataframe tbody tr th {\n",
       "        vertical-align: top;\n",
       "    }\n",
       "\n",
       "    .dataframe thead th {\n",
       "        text-align: right;\n",
       "    }\n",
       "</style>\n",
       "<table border=\"1\" class=\"dataframe\">\n",
       "  <thead>\n",
       "    <tr style=\"text-align: right;\">\n",
       "      <th></th>\n",
       "      <th>Restaurant_id</th>\n",
       "      <th>City</th>\n",
       "      <th>Cuisine Style</th>\n",
       "      <th>Ranking</th>\n",
       "      <th>Price Range</th>\n",
       "      <th>Number of Reviews</th>\n",
       "      <th>Reviews</th>\n",
       "      <th>URL_TA</th>\n",
       "      <th>ID_TA</th>\n",
       "      <th>sample</th>\n",
       "      <th>...</th>\n",
       "      <th>City copy_Oporto</th>\n",
       "      <th>City copy_Oslo</th>\n",
       "      <th>City copy_Paris</th>\n",
       "      <th>City copy_Prague</th>\n",
       "      <th>City copy_Rome</th>\n",
       "      <th>City copy_Stockholm</th>\n",
       "      <th>City copy_Vienna</th>\n",
       "      <th>City copy_Warsaw</th>\n",
       "      <th>City copy_Zurich</th>\n",
       "      <th>City copy_nan</th>\n",
       "    </tr>\n",
       "  </thead>\n",
       "  <tbody>\n",
       "    <tr>\n",
       "      <th>26825</th>\n",
       "      <td>id_7443</td>\n",
       "      <td>Barcelona</td>\n",
       "      <td>[unknown]</td>\n",
       "      <td>7444.0</td>\n",
       "      <td>-</td>\n",
       "      <td>4.0</td>\n",
       "      <td>[[], []]</td>\n",
       "      <td>/Restaurant_Review-g187497-d11500590-Reviews-L...</td>\n",
       "      <td>d11500590</td>\n",
       "      <td>1</td>\n",
       "      <td>...</td>\n",
       "      <td>0</td>\n",
       "      <td>0</td>\n",
       "      <td>0</td>\n",
       "      <td>0</td>\n",
       "      <td>0</td>\n",
       "      <td>0</td>\n",
       "      <td>0</td>\n",
       "      <td>0</td>\n",
       "      <td>0</td>\n",
       "      <td>0</td>\n",
       "    </tr>\n",
       "    <tr>\n",
       "      <th>49591</th>\n",
       "      <td>id_2570</td>\n",
       "      <td>Lyon</td>\n",
       "      <td>[unknown]</td>\n",
       "      <td>2571.0</td>\n",
       "      <td>-</td>\n",
       "      <td>2.0</td>\n",
       "      <td>[[], []]</td>\n",
       "      <td>/Restaurant_Review-g187265-d1328178-Reviews-Au...</td>\n",
       "      <td>d1328178</td>\n",
       "      <td>1</td>\n",
       "      <td>...</td>\n",
       "      <td>0</td>\n",
       "      <td>0</td>\n",
       "      <td>0</td>\n",
       "      <td>0</td>\n",
       "      <td>0</td>\n",
       "      <td>0</td>\n",
       "      <td>0</td>\n",
       "      <td>0</td>\n",
       "      <td>0</td>\n",
       "      <td>0</td>\n",
       "    </tr>\n",
       "    <tr>\n",
       "      <th>27177</th>\n",
       "      <td>id_4728</td>\n",
       "      <td>London</td>\n",
       "      <td>[unknown]</td>\n",
       "      <td>4736.0</td>\n",
       "      <td>-</td>\n",
       "      <td>19.0</td>\n",
       "      <td>[['Top nosh!', 'Lunch'], ['12/22/2017', '11/08...</td>\n",
       "      <td>/Restaurant_Review-g186338-d733560-Reviews-Cas...</td>\n",
       "      <td>d733560</td>\n",
       "      <td>1</td>\n",
       "      <td>...</td>\n",
       "      <td>0</td>\n",
       "      <td>0</td>\n",
       "      <td>0</td>\n",
       "      <td>0</td>\n",
       "      <td>0</td>\n",
       "      <td>0</td>\n",
       "      <td>0</td>\n",
       "      <td>0</td>\n",
       "      <td>0</td>\n",
       "      <td>0</td>\n",
       "    </tr>\n",
       "    <tr>\n",
       "      <th>35662</th>\n",
       "      <td>id_2054</td>\n",
       "      <td>Prague</td>\n",
       "      <td>['Thai']</td>\n",
       "      <td>2057.0</td>\n",
       "      <td>$</td>\n",
       "      <td>33.0</td>\n",
       "      <td>[['Authentic Thai !'], ['10/31/2016']]</td>\n",
       "      <td>/Restaurant_Review-g274707-d9846354-Reviews-Pu...</td>\n",
       "      <td>d9846354</td>\n",
       "      <td>1</td>\n",
       "      <td>...</td>\n",
       "      <td>0</td>\n",
       "      <td>0</td>\n",
       "      <td>0</td>\n",
       "      <td>1</td>\n",
       "      <td>0</td>\n",
       "      <td>0</td>\n",
       "      <td>0</td>\n",
       "      <td>0</td>\n",
       "      <td>0</td>\n",
       "      <td>0</td>\n",
       "    </tr>\n",
       "    <tr>\n",
       "      <th>33993</th>\n",
       "      <td>id_6296</td>\n",
       "      <td>Madrid</td>\n",
       "      <td>['European']</td>\n",
       "      <td>6299.0</td>\n",
       "      <td>-</td>\n",
       "      <td>10.0</td>\n",
       "      <td>[['Inexpensive buffet'], ['07/19/2017']]</td>\n",
       "      <td>/Restaurant_Review-g187514-d3247838-Reviews-Fr...</td>\n",
       "      <td>d3247838</td>\n",
       "      <td>1</td>\n",
       "      <td>...</td>\n",
       "      <td>0</td>\n",
       "      <td>0</td>\n",
       "      <td>0</td>\n",
       "      <td>0</td>\n",
       "      <td>0</td>\n",
       "      <td>0</td>\n",
       "      <td>0</td>\n",
       "      <td>0</td>\n",
       "      <td>0</td>\n",
       "      <td>0</td>\n",
       "    </tr>\n",
       "  </tbody>\n",
       "</table>\n",
       "<p>5 rows × 47 columns</p>\n",
       "</div>"
      ],
      "text/plain": [
       "      Restaurant_id       City Cuisine Style  Ranking Price Range  \\\n",
       "26825       id_7443  Barcelona     [unknown]   7444.0           -   \n",
       "49591       id_2570       Lyon     [unknown]   2571.0           -   \n",
       "27177       id_4728     London     [unknown]   4736.0           -   \n",
       "35662       id_2054     Prague      ['Thai']   2057.0           $   \n",
       "33993       id_6296     Madrid  ['European']   6299.0           -   \n",
       "\n",
       "       Number of Reviews                                            Reviews  \\\n",
       "26825                4.0                                           [[], []]   \n",
       "49591                2.0                                           [[], []]   \n",
       "27177               19.0  [['Top nosh!', 'Lunch'], ['12/22/2017', '11/08...   \n",
       "35662               33.0             [['Authentic Thai !'], ['10/31/2016']]   \n",
       "33993               10.0           [['Inexpensive buffet'], ['07/19/2017']]   \n",
       "\n",
       "                                                  URL_TA      ID_TA  sample  \\\n",
       "26825  /Restaurant_Review-g187497-d11500590-Reviews-L...  d11500590       1   \n",
       "49591  /Restaurant_Review-g187265-d1328178-Reviews-Au...   d1328178       1   \n",
       "27177  /Restaurant_Review-g186338-d733560-Reviews-Cas...    d733560       1   \n",
       "35662  /Restaurant_Review-g274707-d9846354-Reviews-Pu...   d9846354       1   \n",
       "33993  /Restaurant_Review-g187514-d3247838-Reviews-Fr...   d3247838       1   \n",
       "\n",
       "       ...  City copy_Oporto  City copy_Oslo  City copy_Paris  \\\n",
       "26825  ...                 0               0                0   \n",
       "49591  ...                 0               0                0   \n",
       "27177  ...                 0               0                0   \n",
       "35662  ...                 0               0                0   \n",
       "33993  ...                 0               0                0   \n",
       "\n",
       "       City copy_Prague  City copy_Rome  City copy_Stockholm  \\\n",
       "26825                 0               0                    0   \n",
       "49591                 0               0                    0   \n",
       "27177                 0               0                    0   \n",
       "35662                 1               0                    0   \n",
       "33993                 0               0                    0   \n",
       "\n",
       "       City copy_Vienna  City copy_Warsaw  City copy_Zurich  City copy_nan  \n",
       "26825                 0                 0                 0              0  \n",
       "49591                 0                 0                 0              0  \n",
       "27177                 0                 0                 0              0  \n",
       "35662                 0                 0                 0              0  \n",
       "33993                 0                 0                 0              0  \n",
       "\n",
       "[5 rows x 47 columns]"
      ]
     },
     "execution_count": 818,
     "metadata": {},
     "output_type": "execute_result"
    }
   ],
   "source": [
    "data.sample(5)"
   ]
  },
  {
   "cell_type": "markdown",
   "metadata": {},
   "source": [
    "#### Возьмем следующий признак \"Price Range\"."
   ]
  },
  {
   "cell_type": "code",
   "execution_count": 819,
   "metadata": {},
   "outputs": [
    {
     "data": {
      "text/plain": [
       "$$ - $$$    23041\n",
       "-           17361\n",
       "$            7816\n",
       "$$$$         1782\n",
       "Name: Price Range, dtype: int64"
      ]
     },
     "execution_count": 819,
     "metadata": {},
     "output_type": "execute_result"
    }
   ],
   "source": [
    "data['Price Range'].value_counts()"
   ]
  },
  {
   "cell_type": "markdown",
   "metadata": {},
   "source": [
    "По описанию 'Price Range' это - Цены в ресторане.  \n",
    "Их можно поставить по возрастанию (значит это не категориальный признак). А это значит, что их можно заменить последовательными числами, например 1,2,3  \n",
    "*Попробуйте сделать обработку этого признака уже самостоятельно!*"
   ]
  },
  {
   "cell_type": "code",
   "execution_count": 820,
   "metadata": {},
   "outputs": [
    {
     "data": {
      "text/html": [
       "<div>\n",
       "<style scoped>\n",
       "    .dataframe tbody tr th:only-of-type {\n",
       "        vertical-align: middle;\n",
       "    }\n",
       "\n",
       "    .dataframe tbody tr th {\n",
       "        vertical-align: top;\n",
       "    }\n",
       "\n",
       "    .dataframe thead th {\n",
       "        text-align: right;\n",
       "    }\n",
       "</style>\n",
       "<table border=\"1\" class=\"dataframe\">\n",
       "  <thead>\n",
       "    <tr style=\"text-align: right;\">\n",
       "      <th></th>\n",
       "      <th>Price Range</th>\n",
       "      <th>Price Range label</th>\n",
       "    </tr>\n",
       "  </thead>\n",
       "  <tbody>\n",
       "    <tr>\n",
       "      <th>16690</th>\n",
       "      <td>-</td>\n",
       "      <td>0</td>\n",
       "    </tr>\n",
       "    <tr>\n",
       "      <th>49568</th>\n",
       "      <td>$$ - $$$</td>\n",
       "      <td>2</td>\n",
       "    </tr>\n",
       "    <tr>\n",
       "      <th>19137</th>\n",
       "      <td>$$ - $$$</td>\n",
       "      <td>2</td>\n",
       "    </tr>\n",
       "    <tr>\n",
       "      <th>8645</th>\n",
       "      <td>-</td>\n",
       "      <td>0</td>\n",
       "    </tr>\n",
       "    <tr>\n",
       "      <th>37624</th>\n",
       "      <td>$</td>\n",
       "      <td>1</td>\n",
       "    </tr>\n",
       "    <tr>\n",
       "      <th>15532</th>\n",
       "      <td>-</td>\n",
       "      <td>0</td>\n",
       "    </tr>\n",
       "    <tr>\n",
       "      <th>47455</th>\n",
       "      <td>$$ - $$$</td>\n",
       "      <td>2</td>\n",
       "    </tr>\n",
       "    <tr>\n",
       "      <th>14999</th>\n",
       "      <td>-</td>\n",
       "      <td>0</td>\n",
       "    </tr>\n",
       "    <tr>\n",
       "      <th>20977</th>\n",
       "      <td>-</td>\n",
       "      <td>0</td>\n",
       "    </tr>\n",
       "    <tr>\n",
       "      <th>34030</th>\n",
       "      <td>$$ - $$$</td>\n",
       "      <td>2</td>\n",
       "    </tr>\n",
       "  </tbody>\n",
       "</table>\n",
       "</div>"
      ],
      "text/plain": [
       "      Price Range  Price Range label\n",
       "16690           -                  0\n",
       "49568    $$ - $$$                  2\n",
       "19137    $$ - $$$                  2\n",
       "8645            -                  0\n",
       "37624           $                  1\n",
       "15532           -                  0\n",
       "47455    $$ - $$$                  2\n",
       "14999           -                  0\n",
       "20977           -                  0\n",
       "34030    $$ - $$$                  2"
      ]
     },
     "execution_count": 820,
     "metadata": {},
     "output_type": "execute_result"
    }
   ],
   "source": [
    "# Ваша обработка 'Price Range'\n",
    "data['Price Range label'] = data['Price Range'].apply(\n",
    "    lambda x: 3 if x == '$$$$' else 2 if x == '$$ - $$$' else 1 if x == '$' else 0 if x == '-' else x)\n",
    "data[['Price Range', 'Price Range label']].sample(10)"
   ]
  },
  {
   "cell_type": "markdown",
   "metadata": {},
   "source": [
    "> Для некоторых алгоритмов МЛ даже для не категориальных признаков можно применить One-Hot Encoding, и это может улучшить качество модели. Пробуйте разные подходы к кодированию признака - никто не знает заранее, что может взлететь."
   ]
  },
  {
   "cell_type": "markdown",
   "metadata": {},
   "source": [
    "### Обработать другие признаки вы должны самостоятельно!\n",
    "Для обработки других признаков вам возможно придется даже написать свою функцию, а может даже и не одну, но в этом и есть ваша практика в этом модуле!     \n",
    "Следуя подсказкам в модуле вы сможете более подробно узнать, как сделать эти приобразования."
   ]
  },
  {
   "cell_type": "markdown",
   "metadata": {},
   "source": [
    "#### Признак \"Cuisine Style\"."
   ]
  },
  {
   "cell_type": "code",
   "execution_count": 821,
   "metadata": {},
   "outputs": [
    {
     "name": "stdout",
     "output_type": "stream",
     "text": [
      "Cuisine Style type: <class 'list'>\n"
     ]
    },
    {
     "data": {
      "text/html": [
       "<div>\n",
       "<style scoped>\n",
       "    .dataframe tbody tr th:only-of-type {\n",
       "        vertical-align: middle;\n",
       "    }\n",
       "\n",
       "    .dataframe tbody tr th {\n",
       "        vertical-align: top;\n",
       "    }\n",
       "\n",
       "    .dataframe thead th {\n",
       "        text-align: right;\n",
       "    }\n",
       "</style>\n",
       "<table border=\"1\" class=\"dataframe\">\n",
       "  <thead>\n",
       "    <tr style=\"text-align: right;\">\n",
       "      <th></th>\n",
       "      <th>Restaurant_id</th>\n",
       "      <th>City</th>\n",
       "      <th>Cuisine Style</th>\n",
       "      <th>Ranking</th>\n",
       "      <th>Price Range</th>\n",
       "      <th>Number of Reviews</th>\n",
       "      <th>Reviews</th>\n",
       "      <th>URL_TA</th>\n",
       "      <th>ID_TA</th>\n",
       "      <th>sample</th>\n",
       "      <th>...</th>\n",
       "      <th>City copy_Oslo</th>\n",
       "      <th>City copy_Paris</th>\n",
       "      <th>City copy_Prague</th>\n",
       "      <th>City copy_Rome</th>\n",
       "      <th>City copy_Stockholm</th>\n",
       "      <th>City copy_Vienna</th>\n",
       "      <th>City copy_Warsaw</th>\n",
       "      <th>City copy_Zurich</th>\n",
       "      <th>City copy_nan</th>\n",
       "      <th>Price Range label</th>\n",
       "    </tr>\n",
       "  </thead>\n",
       "  <tbody>\n",
       "    <tr>\n",
       "      <th>33459</th>\n",
       "      <td>id_265</td>\n",
       "      <td>Berlin</td>\n",
       "      <td>[cafe, international, european, healthy, veget...</td>\n",
       "      <td>266.0</td>\n",
       "      <td>$$ - $$$</td>\n",
       "      <td>110.0</td>\n",
       "      <td>[['Top place, Top staff', 'Oasis of relaxed am...</td>\n",
       "      <td>/Restaurant_Review-g187323-d11888136-Reviews-R...</td>\n",
       "      <td>d11888136</td>\n",
       "      <td>1</td>\n",
       "      <td>...</td>\n",
       "      <td>0</td>\n",
       "      <td>0</td>\n",
       "      <td>0</td>\n",
       "      <td>0</td>\n",
       "      <td>0</td>\n",
       "      <td>0</td>\n",
       "      <td>0</td>\n",
       "      <td>0</td>\n",
       "      <td>0</td>\n",
       "      <td>2</td>\n",
       "    </tr>\n",
       "    <tr>\n",
       "      <th>34663</th>\n",
       "      <td>id_1069</td>\n",
       "      <td>Hamburg</td>\n",
       "      <td>[unknown]</td>\n",
       "      <td>1071.0</td>\n",
       "      <td>-</td>\n",
       "      <td>5.0</td>\n",
       "      <td>[[], []]</td>\n",
       "      <td>/Restaurant_Review-g187331-d10831212-Reviews-B...</td>\n",
       "      <td>d10831212</td>\n",
       "      <td>1</td>\n",
       "      <td>...</td>\n",
       "      <td>0</td>\n",
       "      <td>0</td>\n",
       "      <td>0</td>\n",
       "      <td>0</td>\n",
       "      <td>0</td>\n",
       "      <td>0</td>\n",
       "      <td>0</td>\n",
       "      <td>0</td>\n",
       "      <td>0</td>\n",
       "      <td>0</td>\n",
       "    </tr>\n",
       "    <tr>\n",
       "      <th>17936</th>\n",
       "      <td>id_11358</td>\n",
       "      <td>London</td>\n",
       "      <td>[fast food, american]</td>\n",
       "      <td>11368.0</td>\n",
       "      <td>$</td>\n",
       "      <td>62.0</td>\n",
       "      <td>[['Lunch time', 'Nice restaurant for a quick l...</td>\n",
       "      <td>/Restaurant_Review-g186338-d4133994-Reviews-Su...</td>\n",
       "      <td>d4133994</td>\n",
       "      <td>1</td>\n",
       "      <td>...</td>\n",
       "      <td>0</td>\n",
       "      <td>0</td>\n",
       "      <td>0</td>\n",
       "      <td>0</td>\n",
       "      <td>0</td>\n",
       "      <td>0</td>\n",
       "      <td>0</td>\n",
       "      <td>0</td>\n",
       "      <td>0</td>\n",
       "      <td>1</td>\n",
       "    </tr>\n",
       "    <tr>\n",
       "      <th>22408</th>\n",
       "      <td>id_978</td>\n",
       "      <td>Milan</td>\n",
       "      <td>[bar]</td>\n",
       "      <td>980.0</td>\n",
       "      <td>$</td>\n",
       "      <td>86.0</td>\n",
       "      <td>[['Great bar!!', 'Everything is amazing'], ['1...</td>\n",
       "      <td>/Restaurant_Review-g187849-d4054754-Reviews-Mo...</td>\n",
       "      <td>d4054754</td>\n",
       "      <td>1</td>\n",
       "      <td>...</td>\n",
       "      <td>0</td>\n",
       "      <td>0</td>\n",
       "      <td>0</td>\n",
       "      <td>0</td>\n",
       "      <td>0</td>\n",
       "      <td>0</td>\n",
       "      <td>0</td>\n",
       "      <td>0</td>\n",
       "      <td>0</td>\n",
       "      <td>1</td>\n",
       "    </tr>\n",
       "    <tr>\n",
       "      <th>19087</th>\n",
       "      <td>id_2257</td>\n",
       "      <td>Budapest</td>\n",
       "      <td>[european, hungarian]</td>\n",
       "      <td>2258.0</td>\n",
       "      <td>$$ - $$$</td>\n",
       "      <td>14.0</td>\n",
       "      <td>[['Menu is very good', \"For fans of ''The Engl...</td>\n",
       "      <td>/Restaurant_Review-g274887-d2060320-Reviews-Al...</td>\n",
       "      <td>d2060320</td>\n",
       "      <td>1</td>\n",
       "      <td>...</td>\n",
       "      <td>0</td>\n",
       "      <td>0</td>\n",
       "      <td>0</td>\n",
       "      <td>0</td>\n",
       "      <td>0</td>\n",
       "      <td>0</td>\n",
       "      <td>0</td>\n",
       "      <td>0</td>\n",
       "      <td>0</td>\n",
       "      <td>2</td>\n",
       "    </tr>\n",
       "  </tbody>\n",
       "</table>\n",
       "<p>5 rows × 48 columns</p>\n",
       "</div>"
      ],
      "text/plain": [
       "      Restaurant_id      City  \\\n",
       "33459        id_265    Berlin   \n",
       "34663       id_1069   Hamburg   \n",
       "17936      id_11358    London   \n",
       "22408        id_978     Milan   \n",
       "19087       id_2257  Budapest   \n",
       "\n",
       "                                           Cuisine Style  Ranking Price Range  \\\n",
       "33459  [cafe, international, european, healthy, veget...    266.0    $$ - $$$   \n",
       "34663                                          [unknown]   1071.0           -   \n",
       "17936                              [fast food, american]  11368.0           $   \n",
       "22408                                              [bar]    980.0           $   \n",
       "19087                              [european, hungarian]   2258.0    $$ - $$$   \n",
       "\n",
       "       Number of Reviews                                            Reviews  \\\n",
       "33459              110.0  [['Top place, Top staff', 'Oasis of relaxed am...   \n",
       "34663                5.0                                           [[], []]   \n",
       "17936               62.0  [['Lunch time', 'Nice restaurant for a quick l...   \n",
       "22408               86.0  [['Great bar!!', 'Everything is amazing'], ['1...   \n",
       "19087               14.0  [['Menu is very good', \"For fans of ''The Engl...   \n",
       "\n",
       "                                                  URL_TA      ID_TA  sample  \\\n",
       "33459  /Restaurant_Review-g187323-d11888136-Reviews-R...  d11888136       1   \n",
       "34663  /Restaurant_Review-g187331-d10831212-Reviews-B...  d10831212       1   \n",
       "17936  /Restaurant_Review-g186338-d4133994-Reviews-Su...   d4133994       1   \n",
       "22408  /Restaurant_Review-g187849-d4054754-Reviews-Mo...   d4054754       1   \n",
       "19087  /Restaurant_Review-g274887-d2060320-Reviews-Al...   d2060320       1   \n",
       "\n",
       "       ...  City copy_Oslo  City copy_Paris  City copy_Prague  City copy_Rome  \\\n",
       "33459  ...               0                0                 0               0   \n",
       "34663  ...               0                0                 0               0   \n",
       "17936  ...               0                0                 0               0   \n",
       "22408  ...               0                0                 0               0   \n",
       "19087  ...               0                0                 0               0   \n",
       "\n",
       "       City copy_Stockholm  City copy_Vienna  City copy_Warsaw  \\\n",
       "33459                    0                 0                 0   \n",
       "34663                    0                 0                 0   \n",
       "17936                    0                 0                 0   \n",
       "22408                    0                 0                 0   \n",
       "19087                    0                 0                 0   \n",
       "\n",
       "       City copy_Zurich  City copy_nan  Price Range label  \n",
       "33459                 0              0                  2  \n",
       "34663                 0              0                  0  \n",
       "17936                 0              0                  1  \n",
       "22408                 0              0                  1  \n",
       "19087                 0              0                  2  \n",
       "\n",
       "[5 rows x 48 columns]"
      ]
     },
     "execution_count": 821,
     "metadata": {},
     "output_type": "execute_result"
    }
   ],
   "source": [
    "import re\n",
    "# тут ваш код на обработку других признаков\n",
    "data['Cuisine Style'] = data['Cuisine Style'].apply(\n",
    "    lambda s: re.split(r'\\s*,\\s*', re.sub(r'[\\]\\[\\']', '', str(s)))).apply(\n",
    "    lambda l: [c.lower().strip() for c in l]).apply(\n",
    "    lambda l: [x for x in l if str(x) != 'nan'])\n",
    "print('Cuisine Style type:', type(data['Cuisine Style'][0]))\n",
    "data.sample(5)"
   ]
  },
  {
   "cell_type": "code",
   "execution_count": 822,
   "metadata": {},
   "outputs": [
    {
     "data": {
      "text/html": [
       "<div>\n",
       "<style scoped>\n",
       "    .dataframe tbody tr th:only-of-type {\n",
       "        vertical-align: middle;\n",
       "    }\n",
       "\n",
       "    .dataframe tbody tr th {\n",
       "        vertical-align: top;\n",
       "    }\n",
       "\n",
       "    .dataframe thead th {\n",
       "        text-align: right;\n",
       "    }\n",
       "</style>\n",
       "<table border=\"1\" class=\"dataframe\">\n",
       "  <thead>\n",
       "    <tr style=\"text-align: right;\">\n",
       "      <th></th>\n",
       "      <th>Cuisine Style</th>\n",
       "      <th>afghani</th>\n",
       "      <th>african</th>\n",
       "      <th>albanian</th>\n",
       "      <th>american</th>\n",
       "      <th>arabic</th>\n",
       "      <th>argentinean</th>\n",
       "      <th>armenian</th>\n",
       "      <th>asian</th>\n",
       "      <th>australian</th>\n",
       "      <th>...</th>\n",
       "      <th>unknown</th>\n",
       "      <th>uzbek</th>\n",
       "      <th>vegan options</th>\n",
       "      <th>vegetarian friendly</th>\n",
       "      <th>venezuelan</th>\n",
       "      <th>vietnamese</th>\n",
       "      <th>welsh</th>\n",
       "      <th>wine bar</th>\n",
       "      <th>xinjiang</th>\n",
       "      <th>yunnan</th>\n",
       "    </tr>\n",
       "  </thead>\n",
       "  <tbody>\n",
       "    <tr>\n",
       "      <th>19210</th>\n",
       "      <td>[french]</td>\n",
       "      <td>0</td>\n",
       "      <td>0</td>\n",
       "      <td>0</td>\n",
       "      <td>0</td>\n",
       "      <td>0</td>\n",
       "      <td>0</td>\n",
       "      <td>0</td>\n",
       "      <td>0</td>\n",
       "      <td>0</td>\n",
       "      <td>...</td>\n",
       "      <td>0</td>\n",
       "      <td>0</td>\n",
       "      <td>0</td>\n",
       "      <td>0</td>\n",
       "      <td>0</td>\n",
       "      <td>0</td>\n",
       "      <td>0</td>\n",
       "      <td>0</td>\n",
       "      <td>0</td>\n",
       "      <td>0</td>\n",
       "    </tr>\n",
       "    <tr>\n",
       "      <th>1859</th>\n",
       "      <td>[unknown]</td>\n",
       "      <td>0</td>\n",
       "      <td>0</td>\n",
       "      <td>0</td>\n",
       "      <td>0</td>\n",
       "      <td>0</td>\n",
       "      <td>0</td>\n",
       "      <td>0</td>\n",
       "      <td>0</td>\n",
       "      <td>0</td>\n",
       "      <td>...</td>\n",
       "      <td>1</td>\n",
       "      <td>0</td>\n",
       "      <td>0</td>\n",
       "      <td>0</td>\n",
       "      <td>0</td>\n",
       "      <td>0</td>\n",
       "      <td>0</td>\n",
       "      <td>0</td>\n",
       "      <td>0</td>\n",
       "      <td>0</td>\n",
       "    </tr>\n",
       "    <tr>\n",
       "      <th>9846</th>\n",
       "      <td>[italian, vegetarian friendly]</td>\n",
       "      <td>0</td>\n",
       "      <td>0</td>\n",
       "      <td>0</td>\n",
       "      <td>0</td>\n",
       "      <td>0</td>\n",
       "      <td>0</td>\n",
       "      <td>0</td>\n",
       "      <td>0</td>\n",
       "      <td>0</td>\n",
       "      <td>...</td>\n",
       "      <td>0</td>\n",
       "      <td>0</td>\n",
       "      <td>0</td>\n",
       "      <td>1</td>\n",
       "      <td>0</td>\n",
       "      <td>0</td>\n",
       "      <td>0</td>\n",
       "      <td>0</td>\n",
       "      <td>0</td>\n",
       "      <td>0</td>\n",
       "    </tr>\n",
       "    <tr>\n",
       "      <th>614</th>\n",
       "      <td>[cafe, british]</td>\n",
       "      <td>0</td>\n",
       "      <td>0</td>\n",
       "      <td>0</td>\n",
       "      <td>0</td>\n",
       "      <td>0</td>\n",
       "      <td>0</td>\n",
       "      <td>0</td>\n",
       "      <td>0</td>\n",
       "      <td>0</td>\n",
       "      <td>...</td>\n",
       "      <td>0</td>\n",
       "      <td>0</td>\n",
       "      <td>0</td>\n",
       "      <td>0</td>\n",
       "      <td>0</td>\n",
       "      <td>0</td>\n",
       "      <td>0</td>\n",
       "      <td>0</td>\n",
       "      <td>0</td>\n",
       "      <td>0</td>\n",
       "    </tr>\n",
       "    <tr>\n",
       "      <th>44169</th>\n",
       "      <td>[spanish, seafood]</td>\n",
       "      <td>0</td>\n",
       "      <td>0</td>\n",
       "      <td>0</td>\n",
       "      <td>0</td>\n",
       "      <td>0</td>\n",
       "      <td>0</td>\n",
       "      <td>0</td>\n",
       "      <td>0</td>\n",
       "      <td>0</td>\n",
       "      <td>...</td>\n",
       "      <td>0</td>\n",
       "      <td>0</td>\n",
       "      <td>0</td>\n",
       "      <td>0</td>\n",
       "      <td>0</td>\n",
       "      <td>0</td>\n",
       "      <td>0</td>\n",
       "      <td>0</td>\n",
       "      <td>0</td>\n",
       "      <td>0</td>\n",
       "    </tr>\n",
       "  </tbody>\n",
       "</table>\n",
       "<p>5 rows × 127 columns</p>\n",
       "</div>"
      ],
      "text/plain": [
       "                        Cuisine Style  afghani  african  albanian  american  \\\n",
       "19210                        [french]        0        0         0         0   \n",
       "1859                        [unknown]        0        0         0         0   \n",
       "9846   [italian, vegetarian friendly]        0        0         0         0   \n",
       "614                   [cafe, british]        0        0         0         0   \n",
       "44169              [spanish, seafood]        0        0         0         0   \n",
       "\n",
       "       arabic  argentinean  armenian  asian  australian  ...  unknown  uzbek  \\\n",
       "19210       0            0         0      0           0  ...        0      0   \n",
       "1859        0            0         0      0           0  ...        1      0   \n",
       "9846        0            0         0      0           0  ...        0      0   \n",
       "614         0            0         0      0           0  ...        0      0   \n",
       "44169       0            0         0      0           0  ...        0      0   \n",
       "\n",
       "       vegan options  vegetarian friendly  venezuelan  vietnamese  welsh  \\\n",
       "19210              0                    0           0           0      0   \n",
       "1859               0                    0           0           0      0   \n",
       "9846               0                    1           0           0      0   \n",
       "614                0                    0           0           0      0   \n",
       "44169              0                    0           0           0      0   \n",
       "\n",
       "       wine bar  xinjiang  yunnan  \n",
       "19210         0         0       0  \n",
       "1859          0         0       0  \n",
       "9846          0         0       0  \n",
       "614           0         0       0  \n",
       "44169         0         0       0  \n",
       "\n",
       "[5 rows x 127 columns]"
      ]
     },
     "execution_count": 822,
     "metadata": {},
     "output_type": "execute_result"
    }
   ],
   "source": [
    "from sklearn.preprocessing import MultiLabelBinarizer\n",
    "mlb = MultiLabelBinarizer()\n",
    "mlb.fit(data['Cuisine Style'])\n",
    "try:\n",
    "    data = data.join(pd.DataFrame(mlb.transform(data['Cuisine Style']), columns=mlb.classes_))\n",
    "except ValueError as e:\n",
    "    print('!!! Already transformed')\n",
    "cousine_styles = mlb.classes_\n",
    "data[['Cuisine Style'] + list(mlb.classes_)].sample(5)"
   ]
  },
  {
   "cell_type": "markdown",
   "metadata": {},
   "source": [
    "#### Признак \"Review\"."
   ]
  },
  {
   "cell_type": "markdown",
   "metadata": {},
   "source": [
    "![](https://cs10.pikabu.ru/post_img/2018/09/06/11/1536261023140110012.jpg)"
   ]
  },
  {
   "cell_type": "markdown",
   "metadata": {},
   "source": [
    "# EDA \n",
    "[Exploratory Data Analysis](https://ru.wikipedia.org/wiki/Разведочный_анализ_данных) - Анализ данных\n",
    "На этом этапе мы строим графики, ищем закономерности, аномалии, выбросы или связи между признаками.\n",
    "В общем цель этого этапа понять, что эти данные могут нам дать и как признаки могут быть взаимосвязаны между собой.\n",
    "Понимание изначальных признаков позволит сгенерировать новые, более сильные и, тем самым, сделать нашу модель лучше.\n",
    "![](https://miro.medium.com/max/2598/1*RXdMb7Uk6mGqWqPguHULaQ.png)"
   ]
  },
  {
   "cell_type": "markdown",
   "metadata": {},
   "source": [
    "### Посмотрим распределение признака"
   ]
  },
  {
   "cell_type": "code",
   "execution_count": 823,
   "metadata": {},
   "outputs": [
    {
     "data": {
      "text/plain": [
       "<AxesSubplot:>"
      ]
     },
     "execution_count": 823,
     "metadata": {},
     "output_type": "execute_result"
    },
    {
     "data": {
      "image/png": "[encoded data removed]",
      "text/plain": [
       "<Figure size 720x504 with 1 Axes>"
      ]
     },
     "metadata": {
      "needs_background": "light"
     },
     "output_type": "display_data"
    }
   ],
   "source": [
    "plt.rcParams['figure.figsize'] = (10,7)\n",
    "df_train['Ranking'].hist(bins=100)"
   ]
  },
  {
   "cell_type": "markdown",
   "metadata": {},
   "source": [
    "У нас много ресторанов, которые не дотягивают и до 2500 места в своем городе, а что там по городам?"
   ]
  },
  {
   "cell_type": "code",
   "execution_count": 824,
   "metadata": {},
   "outputs": [
    {
     "data": {
      "text/plain": [
       "<AxesSubplot:>"
      ]
     },
     "execution_count": 824,
     "metadata": {},
     "output_type": "execute_result"
    },
    {
     "data": {
      "image/png": "[encoded data removed]",
      "text/plain": [
       "<Figure size 720x504 with 1 Axes>"
      ]
     },
     "metadata": {
      "needs_background": "light"
     },
     "output_type": "display_data"
    }
   ],
   "source": [
    "df_train['City'].value_counts(ascending=True).plot(kind='barh')"
   ]
  },
  {
   "cell_type": "markdown",
   "metadata": {},
   "source": [
    "А кто-то говорил, что французы любят поесть=) Посмотрим, как изменится распределение в большом городе:"
   ]
  },
  {
   "cell_type": "code",
   "execution_count": 825,
   "metadata": {},
   "outputs": [
    {
     "data": {
      "text/plain": [
       "<AxesSubplot:>"
      ]
     },
     "execution_count": 825,
     "metadata": {},
     "output_type": "execute_result"
    },
    {
     "data": {
      "image/png": "[encoded data removed]",
      "text/plain": [
       "<Figure size 1440x2160 with 1 Axes>"
      ]
     },
     "metadata": {
      "needs_background": "light"
     },
     "output_type": "display_data"
    }
   ],
   "source": [
    "plt.rcParams['figure.figsize'] = (20,30)\n",
    "data['Cuisine Style'].explode().value_counts(ascending=True).plot(kind='barh')"
   ]
  },
  {
   "cell_type": "code",
   "execution_count": 826,
   "metadata": {},
   "outputs": [
    {
     "data": {
      "text/plain": [
       "<AxesSubplot:>"
      ]
     },
     "execution_count": 826,
     "metadata": {},
     "output_type": "execute_result"
    },
    {
     "data": {
      "image/png": "[encoded data removed]",
      "text/plain": [
       "<Figure size 720x504 with 1 Axes>"
      ]
     },
     "metadata": {
      "needs_background": "light"
     },
     "output_type": "display_data"
    }
   ],
   "source": [
    "plt.rcParams['figure.figsize'] = (10,7)\n",
    "df_train['Ranking'][df_train['City'] =='London'].hist(bins=100)"
   ]
  },
  {
   "cell_type": "code",
   "execution_count": 827,
   "metadata": {},
   "outputs": [
    {
     "data": {
      "image/png": "[encoded data removed]",
      "text/plain": [
       "<Figure size 720x504 with 1 Axes>"
      ]
     },
     "metadata": {
      "needs_background": "light"
     },
     "output_type": "display_data"
    }
   ],
   "source": [
    "# посмотрим на топ 10 городов\n",
    "for x in (df_train['City'].value_counts())[0:10].index:\n",
    "    df_train['Ranking'][df_train['City'] == x].hist(bins=100)\n",
    "plt.show()"
   ]
  },
  {
   "cell_type": "markdown",
   "metadata": {},
   "source": [
    "Получается, что Ranking имеет нормальное распределение, просто в больших городах больше ресторанов, из-за мы этого имеем смещение.\n",
    "\n",
    ">Подумайте как из этого можно сделать признак для вашей модели. Я покажу вам пример, как визуализация помогает находить взаимосвязи. А далее действуйте без подсказок =) \n"
   ]
  },
  {
   "cell_type": "markdown",
   "metadata": {},
   "source": [
    "### Посмотрим распределение целевой переменной"
   ]
  },
  {
   "cell_type": "code",
   "execution_count": 828,
   "metadata": {},
   "outputs": [
    {
     "data": {
      "text/plain": [
       "<AxesSubplot:>"
      ]
     },
     "execution_count": 828,
     "metadata": {},
     "output_type": "execute_result"
    },
    {
     "data": {
      "image/png": "[encoded data removed]",
      "text/plain": [
       "<Figure size 720x504 with 1 Axes>"
      ]
     },
     "metadata": {
      "needs_background": "light"
     },
     "output_type": "display_data"
    }
   ],
   "source": [
    "df_train['Rating'].value_counts(ascending=True).plot(kind='barh')"
   ]
  },
  {
   "cell_type": "markdown",
   "metadata": {},
   "source": [
    "### Посмотрим распределение целевой переменной относительно признака"
   ]
  },
  {
   "cell_type": "code",
   "execution_count": 829,
   "metadata": {},
   "outputs": [
    {
     "data": {
      "text/plain": [
       "<matplotlib.legend.Legend at 0x7f94f5ca5050>"
      ]
     },
     "execution_count": 829,
     "metadata": {},
     "output_type": "execute_result"
    },
    {
     "data": {
      "image/png": "[encoded data removed]",
      "text/plain": [
       "<Figure size 1080x720 with 1 Axes>"
      ]
     },
     "metadata": {
      "needs_background": "light"
     },
     "output_type": "display_data"
    }
   ],
   "source": [
    "plt.rcParams['figure.figsize'] = (15,10)\n",
    "ax = plt.subplot(1,1,1)\n",
    "for rat in np.sort(df_train['Rating'].unique()):\n",
    "    #df_train['Ranking'][df_train['Rating'] == rat].hist(bins=100, legend=True)\n",
    "    ax.hist(df_train['Ranking'][df_train['Rating'] == rat], bins=100, label=f\"Rating {rat}\")\n",
    "handles, labels = ax.get_legend_handles_labels()\n",
    "ax.legend(handles[::-1], labels[::-1]) "
   ]
  },
  {
   "cell_type": "code",
   "execution_count": 830,
   "metadata": {},
   "outputs": [
    {
     "data": {
      "text/plain": [
       "<AxesSubplot:>"
      ]
     },
     "execution_count": 830,
     "metadata": {},
     "output_type": "execute_result"
    },
    {
     "data": {
      "image/png": "[encoded data removed]",
      "text/plain": [
       "<Figure size 1080x720 with 1 Axes>"
      ]
     },
     "metadata": {
      "needs_background": "light"
     },
     "output_type": "display_data"
    }
   ],
   "source": [
    "df_train['Ranking'][df_train['Rating'] == 5].hist(bins=100)"
   ]
  },
  {
   "cell_type": "code",
   "execution_count": 831,
   "metadata": {},
   "outputs": [
    {
     "data": {
      "text/plain": [
       "<AxesSubplot:>"
      ]
     },
     "execution_count": 831,
     "metadata": {},
     "output_type": "execute_result"
    },
    {
     "data": {
      "image/png": "[encoded data removed]",
      "text/plain": [
       "<Figure size 1080x720 with 1 Axes>"
      ]
     },
     "metadata": {
      "needs_background": "light"
     },
     "output_type": "display_data"
    }
   ],
   "source": [
    "df_train['Ranking'][df_train['Rating'] < 4].hist(bins=100)"
   ]
  },
  {
   "cell_type": "code",
   "execution_count": 832,
   "metadata": {},
   "outputs": [
    {
     "data": {
      "text/plain": [
       "<AxesSubplot:>"
      ]
     },
     "execution_count": 832,
     "metadata": {},
     "output_type": "execute_result"
    },
    {
     "data": {
      "image/png": "[encoded data removed]",
      "text/plain": [
       "<Figure size 1080x720 with 1 Axes>"
      ]
     },
     "metadata": {
      "needs_background": "light"
     },
     "output_type": "display_data"
    }
   ],
   "source": [
    "df_train['Ranking'][df_train['Rating'] < 3].hist(bins=100)"
   ]
  },
  {
   "cell_type": "code",
   "execution_count": 833,
   "metadata": {},
   "outputs": [
    {
     "data": {
      "text/plain": [
       "<AxesSubplot:>"
      ]
     },
     "execution_count": 833,
     "metadata": {},
     "output_type": "execute_result"
    },
    {
     "data": {
      "image/png": "[encoded data removed]",
      "text/plain": [
       "<Figure size 1080x720 with 1 Axes>"
      ]
     },
     "metadata": {
      "needs_background": "light"
     },
     "output_type": "display_data"
    }
   ],
   "source": [
    "df_train['Ranking'][df_train['Rating'] < 2].hist(bins=100)"
   ]
  },
  {
   "cell_type": "markdown",
   "metadata": {},
   "source": [
    "### И один из моих любимых - [корреляция признаков](https://ru.wikipedia.org/wiki/Корреляция)\n",
    "На этом графике уже сейчас вы сможете заметить, как признаки связаны между собой и с целевой переменной."
   ]
  },
  {
   "cell_type": "code",
   "execution_count": 834,
   "metadata": {},
   "outputs": [],
   "source": [
    "city_dummies = []\n",
    "for column in data.columns:\n",
    "    if column.startswith('City_'):\n",
    "        city_dummies.append(column)"
   ]
  },
  {
   "cell_type": "code",
   "execution_count": 835,
   "metadata": {},
   "outputs": [
    {
     "data": {
      "text/plain": [
       "<AxesSubplot:>"
      ]
     },
     "execution_count": 835,
     "metadata": {},
     "output_type": "execute_result"
    },
    {
     "data": {
      "image/png": "[encoded data removed]",
      "text/plain": [
       "<Figure size 1080x720 with 2 Axes>"
      ]
     },
     "metadata": {
      "needs_background": "light"
     },
     "output_type": "display_data"
    }
   ],
   "source": [
    "plt.rcParams['figure.figsize'] = (15,10)\n",
    "sns.heatmap(data.drop(['sample'] + list(cousine_styles) + city_dummies, axis=1).corr(),)"
   ]
  },
  {
   "cell_type": "markdown",
   "metadata": {},
   "source": [
    "Вообще благодаря визуализации в этом датасете можно узнать много интересных фактов, например:\n",
    "* где больше Пицерий в Мадриде или Лондоне?\n",
    "* в каком городе кухня ресторанов более разнообразна?\n",
    "\n",
    "придумайте свои вопрос и найдите на него ответ в данных)"
   ]
  },
  {
   "cell_type": "code",
   "execution_count": 839,
   "metadata": {},
   "outputs": [
    {
     "data": {
      "text/html": [
       "<div>\n",
       "<style scoped>\n",
       "    .dataframe tbody tr th:only-of-type {\n",
       "        vertical-align: middle;\n",
       "    }\n",
       "\n",
       "    .dataframe tbody tr th {\n",
       "        vertical-align: top;\n",
       "    }\n",
       "\n",
       "    .dataframe thead th {\n",
       "        text-align: right;\n",
       "    }\n",
       "</style>\n",
       "<table border=\"1\" class=\"dataframe\">\n",
       "  <thead>\n",
       "    <tr style=\"text-align: right;\">\n",
       "      <th></th>\n",
       "      <th>Restaurant_id</th>\n",
       "      <th>City</th>\n",
       "      <th>Cuisine Style</th>\n",
       "      <th>Ranking</th>\n",
       "      <th>Price Range</th>\n",
       "      <th>Number of Reviews</th>\n",
       "      <th>Reviews</th>\n",
       "      <th>URL_TA</th>\n",
       "      <th>ID_TA</th>\n",
       "      <th>sample</th>\n",
       "      <th>...</th>\n",
       "      <th>unknown_rank</th>\n",
       "      <th>uzbek_rank</th>\n",
       "      <th>vegan options_rank</th>\n",
       "      <th>vegetarian friendly_rank</th>\n",
       "      <th>venezuelan_rank</th>\n",
       "      <th>vietnamese_rank</th>\n",
       "      <th>welsh_rank</th>\n",
       "      <th>wine bar_rank</th>\n",
       "      <th>xinjiang_rank</th>\n",
       "      <th>yunnan_rank</th>\n",
       "    </tr>\n",
       "  </thead>\n",
       "  <tbody>\n",
       "    <tr>\n",
       "      <th>0</th>\n",
       "      <td>id_0</td>\n",
       "      <td>Paris</td>\n",
       "      <td>[bar, pub]</td>\n",
       "      <td>12963.0</td>\n",
       "      <td>$$ - $$$</td>\n",
       "      <td>4.0</td>\n",
       "      <td>[[], []]</td>\n",
       "      <td>/Restaurant_Review-g187147-d10746918-Reviews-L...</td>\n",
       "      <td>d10746918</td>\n",
       "      <td>0</td>\n",
       "      <td>...</td>\n",
       "      <td>9731.5</td>\n",
       "      <td>0.0</td>\n",
       "      <td>1606.0</td>\n",
       "      <td>2223.0</td>\n",
       "      <td>4709.0</td>\n",
       "      <td>5751.0</td>\n",
       "      <td>0.0</td>\n",
       "      <td>4010.0</td>\n",
       "      <td>6376.0</td>\n",
       "      <td>0.0</td>\n",
       "    </tr>\n",
       "    <tr>\n",
       "      <th>5</th>\n",
       "      <td>id_5</td>\n",
       "      <td>Paris</td>\n",
       "      <td>[french, cafe, fast food]</td>\n",
       "      <td>5093.0</td>\n",
       "      <td>$</td>\n",
       "      <td>24.0</td>\n",
       "      <td>[['Lunch Break', 'Good to Quick Bite'], ['09/0...</td>\n",
       "      <td>/Restaurant_Review-g187147-d8458643-Reviews-Le...</td>\n",
       "      <td>d8458643</td>\n",
       "      <td>0</td>\n",
       "      <td>...</td>\n",
       "      <td>9731.5</td>\n",
       "      <td>0.0</td>\n",
       "      <td>1606.0</td>\n",
       "      <td>2223.0</td>\n",
       "      <td>4709.0</td>\n",
       "      <td>5751.0</td>\n",
       "      <td>0.0</td>\n",
       "      <td>4010.0</td>\n",
       "      <td>6376.0</td>\n",
       "      <td>0.0</td>\n",
       "    </tr>\n",
       "    <tr>\n",
       "      <th>15</th>\n",
       "      <td>id_15</td>\n",
       "      <td>Paris</td>\n",
       "      <td>[french]</td>\n",
       "      <td>12899.0</td>\n",
       "      <td>$</td>\n",
       "      <td>39.0</td>\n",
       "      <td>[['Very nice food and staff', 'Lovely service ...</td>\n",
       "      <td>/Restaurant_Review-g187147-d7605609-Reviews-Le...</td>\n",
       "      <td>d7605609</td>\n",
       "      <td>0</td>\n",
       "      <td>...</td>\n",
       "      <td>9731.5</td>\n",
       "      <td>0.0</td>\n",
       "      <td>1606.0</td>\n",
       "      <td>2223.0</td>\n",
       "      <td>4709.0</td>\n",
       "      <td>5751.0</td>\n",
       "      <td>0.0</td>\n",
       "      <td>4010.0</td>\n",
       "      <td>6376.0</td>\n",
       "      <td>0.0</td>\n",
       "    </tr>\n",
       "    <tr>\n",
       "      <th>31</th>\n",
       "      <td>id_31</td>\n",
       "      <td>Paris</td>\n",
       "      <td>[unknown]</td>\n",
       "      <td>3156.0</td>\n",
       "      <td>-</td>\n",
       "      <td>19.0</td>\n",
       "      <td>[['Very good food'], ['09/24/2017']]</td>\n",
       "      <td>/Restaurant_Review-g187147-d11953078-Reviews-B...</td>\n",
       "      <td>d11953078</td>\n",
       "      <td>0</td>\n",
       "      <td>...</td>\n",
       "      <td>9731.5</td>\n",
       "      <td>0.0</td>\n",
       "      <td>1606.0</td>\n",
       "      <td>2223.0</td>\n",
       "      <td>4709.0</td>\n",
       "      <td>5751.0</td>\n",
       "      <td>0.0</td>\n",
       "      <td>4010.0</td>\n",
       "      <td>6376.0</td>\n",
       "      <td>0.0</td>\n",
       "    </tr>\n",
       "    <tr>\n",
       "      <th>34</th>\n",
       "      <td>id_34</td>\n",
       "      <td>Paris</td>\n",
       "      <td>[french]</td>\n",
       "      <td>476.0</td>\n",
       "      <td>$$ - $$$</td>\n",
       "      <td>136.0</td>\n",
       "      <td>[['Worthy of a trip out of the city centre!', ...</td>\n",
       "      <td>/Restaurant_Review-g187147-d9597870-Reviews-La...</td>\n",
       "      <td>d9597870</td>\n",
       "      <td>0</td>\n",
       "      <td>...</td>\n",
       "      <td>9731.5</td>\n",
       "      <td>0.0</td>\n",
       "      <td>1606.0</td>\n",
       "      <td>2223.0</td>\n",
       "      <td>4709.0</td>\n",
       "      <td>5751.0</td>\n",
       "      <td>0.0</td>\n",
       "      <td>4010.0</td>\n",
       "      <td>6376.0</td>\n",
       "      <td>0.0</td>\n",
       "    </tr>\n",
       "    <tr>\n",
       "      <th>...</th>\n",
       "      <td>...</td>\n",
       "      <td>...</td>\n",
       "      <td>...</td>\n",
       "      <td>...</td>\n",
       "      <td>...</td>\n",
       "      <td>...</td>\n",
       "      <td>...</td>\n",
       "      <td>...</td>\n",
       "      <td>...</td>\n",
       "      <td>...</td>\n",
       "      <td>...</td>\n",
       "      <td>...</td>\n",
       "      <td>...</td>\n",
       "      <td>...</td>\n",
       "      <td>...</td>\n",
       "      <td>...</td>\n",
       "      <td>...</td>\n",
       "      <td>...</td>\n",
       "      <td>...</td>\n",
       "      <td>...</td>\n",
       "      <td>...</td>\n",
       "    </tr>\n",
       "    <tr>\n",
       "      <th>49349</th>\n",
       "      <td>id_190</td>\n",
       "      <td>Ljubljana</td>\n",
       "      <td>[irish, bar, pub, british]</td>\n",
       "      <td>191.0</td>\n",
       "      <td>$</td>\n",
       "      <td>60.0</td>\n",
       "      <td>[['Nice place', 'Quiz'], ['03/31/2017', '01/25...</td>\n",
       "      <td>/Restaurant_Review-g274873-d948475-Reviews-Pat...</td>\n",
       "      <td>d948475</td>\n",
       "      <td>1</td>\n",
       "      <td>...</td>\n",
       "      <td>334.0</td>\n",
       "      <td>0.0</td>\n",
       "      <td>67.0</td>\n",
       "      <td>83.0</td>\n",
       "      <td>0.0</td>\n",
       "      <td>0.0</td>\n",
       "      <td>0.0</td>\n",
       "      <td>141.0</td>\n",
       "      <td>0.0</td>\n",
       "      <td>0.0</td>\n",
       "    </tr>\n",
       "    <tr>\n",
       "      <th>49564</th>\n",
       "      <td>id_347</td>\n",
       "      <td>Ljubljana</td>\n",
       "      <td>[unknown]</td>\n",
       "      <td>348.0</td>\n",
       "      <td>-</td>\n",
       "      <td>10.0</td>\n",
       "      <td>[['By the river', 'Unique experience!'], ['08/...</td>\n",
       "      <td>/Restaurant_Review-g274873-d11924327-Reviews-K...</td>\n",
       "      <td>d11924327</td>\n",
       "      <td>1</td>\n",
       "      <td>...</td>\n",
       "      <td>334.0</td>\n",
       "      <td>0.0</td>\n",
       "      <td>67.0</td>\n",
       "      <td>83.0</td>\n",
       "      <td>0.0</td>\n",
       "      <td>0.0</td>\n",
       "      <td>0.0</td>\n",
       "      <td>141.0</td>\n",
       "      <td>0.0</td>\n",
       "      <td>0.0</td>\n",
       "    </tr>\n",
       "    <tr>\n",
       "      <th>49632</th>\n",
       "      <td>id_429</td>\n",
       "      <td>Ljubljana</td>\n",
       "      <td>[unknown]</td>\n",
       "      <td>430.0</td>\n",
       "      <td>-</td>\n",
       "      <td>9.0</td>\n",
       "      <td>[[\"It's always nice to be here.\", 'Food is goo...</td>\n",
       "      <td>/Restaurant_Review-g274873-d7997510-Reviews-Je...</td>\n",
       "      <td>d7997510</td>\n",
       "      <td>1</td>\n",
       "      <td>...</td>\n",
       "      <td>334.0</td>\n",
       "      <td>0.0</td>\n",
       "      <td>67.0</td>\n",
       "      <td>83.0</td>\n",
       "      <td>0.0</td>\n",
       "      <td>0.0</td>\n",
       "      <td>0.0</td>\n",
       "      <td>141.0</td>\n",
       "      <td>0.0</td>\n",
       "      <td>0.0</td>\n",
       "    </tr>\n",
       "    <tr>\n",
       "      <th>49706</th>\n",
       "      <td>id_338</td>\n",
       "      <td>Ljubljana</td>\n",
       "      <td>[mediterranean]</td>\n",
       "      <td>339.0</td>\n",
       "      <td>$</td>\n",
       "      <td>9.0</td>\n",
       "      <td>[['Good and fast food', 'The best kebab in tow...</td>\n",
       "      <td>/Restaurant_Review-g274873-d8670188-Reviews-Ag...</td>\n",
       "      <td>d8670188</td>\n",
       "      <td>1</td>\n",
       "      <td>...</td>\n",
       "      <td>334.0</td>\n",
       "      <td>0.0</td>\n",
       "      <td>67.0</td>\n",
       "      <td>83.0</td>\n",
       "      <td>0.0</td>\n",
       "      <td>0.0</td>\n",
       "      <td>0.0</td>\n",
       "      <td>141.0</td>\n",
       "      <td>0.0</td>\n",
       "      <td>0.0</td>\n",
       "    </tr>\n",
       "    <tr>\n",
       "      <th>49930</th>\n",
       "      <td>id_200</td>\n",
       "      <td>Ljubljana</td>\n",
       "      <td>[mediterranean]</td>\n",
       "      <td>201.0</td>\n",
       "      <td>$$ - $$$</td>\n",
       "      <td>10.0</td>\n",
       "      <td>[['Delicious food with nice dessert 👍', 'Amazi...</td>\n",
       "      <td>/Restaurant_Review-g274873-d9786426-Reviews-Bi...</td>\n",
       "      <td>d9786426</td>\n",
       "      <td>1</td>\n",
       "      <td>...</td>\n",
       "      <td>334.0</td>\n",
       "      <td>0.0</td>\n",
       "      <td>67.0</td>\n",
       "      <td>83.0</td>\n",
       "      <td>0.0</td>\n",
       "      <td>0.0</td>\n",
       "      <td>0.0</td>\n",
       "      <td>141.0</td>\n",
       "      <td>0.0</td>\n",
       "      <td>0.0</td>\n",
       "    </tr>\n",
       "  </tbody>\n",
       "</table>\n",
       "<p>50000 rows × 300 columns</p>\n",
       "</div>"
      ],
      "text/plain": [
       "      Restaurant_id       City               Cuisine Style  Ranking  \\\n",
       "0              id_0      Paris                  [bar, pub]  12963.0   \n",
       "5              id_5      Paris   [french, cafe, fast food]   5093.0   \n",
       "15            id_15      Paris                    [french]  12899.0   \n",
       "31            id_31      Paris                   [unknown]   3156.0   \n",
       "34            id_34      Paris                    [french]    476.0   \n",
       "...             ...        ...                         ...      ...   \n",
       "49349        id_190  Ljubljana  [irish, bar, pub, british]    191.0   \n",
       "49564        id_347  Ljubljana                   [unknown]    348.0   \n",
       "49632        id_429  Ljubljana                   [unknown]    430.0   \n",
       "49706        id_338  Ljubljana             [mediterranean]    339.0   \n",
       "49930        id_200  Ljubljana             [mediterranean]    201.0   \n",
       "\n",
       "      Price Range  Number of Reviews  \\\n",
       "0        $$ - $$$                4.0   \n",
       "5               $               24.0   \n",
       "15              $               39.0   \n",
       "31              -               19.0   \n",
       "34       $$ - $$$              136.0   \n",
       "...           ...                ...   \n",
       "49349           $               60.0   \n",
       "49564           -               10.0   \n",
       "49632           -                9.0   \n",
       "49706           $                9.0   \n",
       "49930    $$ - $$$               10.0   \n",
       "\n",
       "                                                 Reviews  \\\n",
       "0                                               [[], []]   \n",
       "5      [['Lunch Break', 'Good to Quick Bite'], ['09/0...   \n",
       "15     [['Very nice food and staff', 'Lovely service ...   \n",
       "31                  [['Very good food'], ['09/24/2017']]   \n",
       "34     [['Worthy of a trip out of the city centre!', ...   \n",
       "...                                                  ...   \n",
       "49349  [['Nice place', 'Quiz'], ['03/31/2017', '01/25...   \n",
       "49564  [['By the river', 'Unique experience!'], ['08/...   \n",
       "49632  [[\"It's always nice to be here.\", 'Food is goo...   \n",
       "49706  [['Good and fast food', 'The best kebab in tow...   \n",
       "49930  [['Delicious food with nice dessert 👍', 'Amazi...   \n",
       "\n",
       "                                                  URL_TA      ID_TA  sample  \\\n",
       "0      /Restaurant_Review-g187147-d10746918-Reviews-L...  d10746918       0   \n",
       "5      /Restaurant_Review-g187147-d8458643-Reviews-Le...   d8458643       0   \n",
       "15     /Restaurant_Review-g187147-d7605609-Reviews-Le...   d7605609       0   \n",
       "31     /Restaurant_Review-g187147-d11953078-Reviews-B...  d11953078       0   \n",
       "34     /Restaurant_Review-g187147-d9597870-Reviews-La...   d9597870       0   \n",
       "...                                                  ...        ...     ...   \n",
       "49349  /Restaurant_Review-g274873-d948475-Reviews-Pat...    d948475       1   \n",
       "49564  /Restaurant_Review-g274873-d11924327-Reviews-K...  d11924327       1   \n",
       "49632  /Restaurant_Review-g274873-d7997510-Reviews-Je...   d7997510       1   \n",
       "49706  /Restaurant_Review-g274873-d8670188-Reviews-Ag...   d8670188       1   \n",
       "49930  /Restaurant_Review-g274873-d9786426-Reviews-Bi...   d9786426       1   \n",
       "\n",
       "       ...  unknown_rank  uzbek_rank  vegan options_rank  \\\n",
       "0      ...        9731.5         0.0              1606.0   \n",
       "5      ...        9731.5         0.0              1606.0   \n",
       "15     ...        9731.5         0.0              1606.0   \n",
       "31     ...        9731.5         0.0              1606.0   \n",
       "34     ...        9731.5         0.0              1606.0   \n",
       "...    ...           ...         ...                 ...   \n",
       "49349  ...         334.0         0.0                67.0   \n",
       "49564  ...         334.0         0.0                67.0   \n",
       "49632  ...         334.0         0.0                67.0   \n",
       "49706  ...         334.0         0.0                67.0   \n",
       "49930  ...         334.0         0.0                67.0   \n",
       "\n",
       "       vegetarian friendly_rank  venezuelan_rank  vietnamese_rank  welsh_rank  \\\n",
       "0                        2223.0           4709.0           5751.0         0.0   \n",
       "5                        2223.0           4709.0           5751.0         0.0   \n",
       "15                       2223.0           4709.0           5751.0         0.0   \n",
       "31                       2223.0           4709.0           5751.0         0.0   \n",
       "34                       2223.0           4709.0           5751.0         0.0   \n",
       "...                         ...              ...              ...         ...   \n",
       "49349                      83.0              0.0              0.0         0.0   \n",
       "49564                      83.0              0.0              0.0         0.0   \n",
       "49632                      83.0              0.0              0.0         0.0   \n",
       "49706                      83.0              0.0              0.0         0.0   \n",
       "49930                      83.0              0.0              0.0         0.0   \n",
       "\n",
       "       wine bar_rank  xinjiang_rank  yunnan_rank  \n",
       "0             4010.0         6376.0          0.0  \n",
       "5             4010.0         6376.0          0.0  \n",
       "15            4010.0         6376.0          0.0  \n",
       "31            4010.0         6376.0          0.0  \n",
       "34            4010.0         6376.0          0.0  \n",
       "...              ...            ...          ...  \n",
       "49349          141.0            0.0          0.0  \n",
       "49564          141.0            0.0          0.0  \n",
       "49632          141.0            0.0          0.0  \n",
       "49706          141.0            0.0          0.0  \n",
       "49930          141.0            0.0          0.0  \n",
       "\n",
       "[50000 rows x 300 columns]"
      ]
     },
     "execution_count": 839,
     "metadata": {},
     "output_type": "execute_result"
    }
   ],
   "source": [
    "def rank_concurents_in_city(df):\n",
    "    temp_df = data.explode(\n",
    "        'Cuisine Style').groupby(by=['City', 'Cuisine Style']).median()['Ranking'].rename_axis(\n",
    "        ['City', 'Cuisine Style']).reset_index(name='value')\n",
    "    pivot_df = temp_df.pivot(index='City', columns='Cuisine Style', values='value').fillna(0)\n",
    "    return df.merge(pivot_df, right_index=True, left_on='City', suffixes=('_x', '_rank'))\n",
    "\n",
    "\n",
    "\n",
    "pivot_df\n",
    "\n",
    "#pivot_df = temp_df.pivot(index='City', columns='Cuisine Style', values='value').fillna(0)\n",
    "rank_concurents_in_city(data)"
   ]
  },
  {
   "cell_type": "code",
   "execution_count": 1002,
   "metadata": {},
   "outputs": [
    {
     "data": {
      "text/html": [
       "<div>\n",
       "<style scoped>\n",
       "    .dataframe tbody tr th:only-of-type {\n",
       "        vertical-align: middle;\n",
       "    }\n",
       "\n",
       "    .dataframe tbody tr th {\n",
       "        vertical-align: top;\n",
       "    }\n",
       "\n",
       "    .dataframe thead th {\n",
       "        text-align: right;\n",
       "    }\n",
       "</style>\n",
       "<table border=\"1\" class=\"dataframe\">\n",
       "  <thead>\n",
       "    <tr style=\"text-align: right;\">\n",
       "      <th></th>\n",
       "      <th>a</th>\n",
       "      <th>b</th>\n",
       "      <th>s</th>\n",
       "    </tr>\n",
       "  </thead>\n",
       "  <tbody>\n",
       "    <tr>\n",
       "      <th>0</th>\n",
       "      <td>1</td>\n",
       "      <td>NaN</td>\n",
       "      <td>3.0</td>\n",
       "    </tr>\n",
       "    <tr>\n",
       "      <th>1</th>\n",
       "      <td>4</td>\n",
       "      <td>5.0</td>\n",
       "      <td>6.0</td>\n",
       "    </tr>\n",
       "    <tr>\n",
       "      <th>2</th>\n",
       "      <td>7</td>\n",
       "      <td>NaN</td>\n",
       "      <td>9.0</td>\n",
       "    </tr>\n",
       "    <tr>\n",
       "      <th>3</th>\n",
       "      <td>10</td>\n",
       "      <td>11.0</td>\n",
       "      <td>NaN</td>\n",
       "    </tr>\n",
       "  </tbody>\n",
       "</table>\n",
       "</div>"
      ],
      "text/plain": [
       "    a     b    s\n",
       "0   1   NaN  3.0\n",
       "1   4   5.0  6.0\n",
       "2   7   NaN  9.0\n",
       "3  10  11.0  NaN"
      ]
     },
     "metadata": {},
     "output_type": "display_data"
    },
    {
     "data": {
      "text/plain": [
       "0     2.0\n",
       "1     5.0\n",
       "2     8.0\n",
       "3    10.5\n",
       "dtype: float64"
      ]
     },
     "metadata": {},
     "output_type": "display_data"
    },
    {
     "data": {
      "text/html": [
       "<div>\n",
       "<style scoped>\n",
       "    .dataframe tbody tr th:only-of-type {\n",
       "        vertical-align: middle;\n",
       "    }\n",
       "\n",
       "    .dataframe tbody tr th {\n",
       "        vertical-align: top;\n",
       "    }\n",
       "\n",
       "    .dataframe thead th {\n",
       "        text-align: right;\n",
       "    }\n",
       "</style>\n",
       "<table border=\"1\" class=\"dataframe\">\n",
       "  <thead>\n",
       "    <tr style=\"text-align: right;\">\n",
       "      <th></th>\n",
       "      <th>a</th>\n",
       "      <th>b</th>\n",
       "      <th>s</th>\n",
       "    </tr>\n",
       "  </thead>\n",
       "  <tbody>\n",
       "    <tr>\n",
       "      <th>0</th>\n",
       "      <td>1.0</td>\n",
       "      <td>2.0</td>\n",
       "      <td>3.0</td>\n",
       "    </tr>\n",
       "    <tr>\n",
       "      <th>1</th>\n",
       "      <td>4.0</td>\n",
       "      <td>5.0</td>\n",
       "      <td>6.0</td>\n",
       "    </tr>\n",
       "    <tr>\n",
       "      <th>2</th>\n",
       "      <td>7.0</td>\n",
       "      <td>8.0</td>\n",
       "      <td>9.0</td>\n",
       "    </tr>\n",
       "    <tr>\n",
       "      <th>3</th>\n",
       "      <td>10.0</td>\n",
       "      <td>11.0</td>\n",
       "      <td>10.5</td>\n",
       "    </tr>\n",
       "  </tbody>\n",
       "</table>\n",
       "</div>"
      ],
      "text/plain": [
       "      a     b     s\n",
       "0   1.0   2.0   3.0\n",
       "1   4.0   5.0   6.0\n",
       "2   7.0   8.0   9.0\n",
       "3  10.0  11.0  10.5"
      ]
     },
     "execution_count": 1002,
     "metadata": {},
     "output_type": "execute_result"
    }
   ],
   "source": [
    "test_df = pd.DataFrame([[1, np.nan, 3], [4, 5, 6], [7, np.nan, 9], [10, 11, np.nan]], columns=['a', 'b', 's'])\n",
    "display(test_df)\n",
    "display(test_df.median(axis=1))\n",
    "test_df.T.fillna(test_df.median(axis=1)).T"
   ]
  },
  {
   "cell_type": "markdown",
   "metadata": {},
   "source": [
    "# Data Preprocessing\n",
    "Теперь, для удобства и воспроизводимости кода, завернем всю обработку в одну большую функцию."
   ]
  },
  {
   "cell_type": "code",
   "execution_count": 844,
   "metadata": {},
   "outputs": [
    {
     "name": "stdout",
     "output_type": "stream",
     "text": [
      "<class 'pandas.core.frame.DataFrame'>\n",
      "RangeIndex: 50000 entries, 0 to 49999\n",
      "Data columns (total 11 columns):\n",
      " #   Column             Non-Null Count  Dtype  \n",
      "---  ------             --------------  -----  \n",
      " 0   Restaurant_id      50000 non-null  object \n",
      " 1   City               50000 non-null  object \n",
      " 2   Cuisine Style      38410 non-null  object \n",
      " 3   Ranking            50000 non-null  float64\n",
      " 4   Price Range        32639 non-null  object \n",
      " 5   Number of Reviews  46800 non-null  float64\n",
      " 6   Reviews            49998 non-null  object \n",
      " 7   URL_TA             50000 non-null  object \n",
      " 8   ID_TA              50000 non-null  object \n",
      " 9   sample             50000 non-null  int64  \n",
      " 10  Rating             50000 non-null  float64\n",
      "dtypes: float64(3), int64(1), object(7)\n",
      "memory usage: 4.2+ MB\n"
     ]
    }
   ],
   "source": [
    "# на всякий случай, заново подгружаем данные\n",
    "df_train = pd.read_csv(DATA_DIR+'main_task.csv')\n",
    "df_test = pd.read_csv(DATA_DIR+'kaggle_task.csv')\n",
    "df_train['sample'] = 1 # помечаем где у нас трейн\n",
    "df_test['sample'] = 0 # помечаем где у нас тест\n",
    "df_test['Rating'] = 0 # в тесте у нас нет значения Rating, мы его должны предсказать, по этому пока просто заполняем нулями\n",
    "\n",
    "data = df_test.append(df_train, sort=False).reset_index(drop=True) # объединяем\n",
    "data.info()"
   ]
  },
  {
   "cell_type": "code",
   "execution_count": 1046,
   "metadata": {},
   "outputs": [],
   "source": [
    "# import re\n",
    "from sklearn.preprocessing import MultiLabelBinarizer\n",
    "from datetime import datetime\n",
    "from sklearn.feature_extraction.text import CountVectorizer, TfidfVectorizer\n",
    "\n",
    "def multi_label_encode(df, feature, prefix=''):\n",
    "    mlb = MultiLabelBinarizer()\n",
    "    mlb.fit(df[feature])\n",
    "    classes = [prefix + clazz.replace(' ', '_') if len(clazz)\n",
    "               > 0 else prefix + 'nan' for clazz in mlb.classes_]\n",
    "    return df.join(pd.DataFrame(mlb.transform(df[feature]), columns=classes))\n",
    "\n",
    "\n",
    "def extractc_review(df):\n",
    "    temp_df = df['Reviews'].str.extract(r\"\\[\\[\\'(?P<review_text>.*)\\'\\]\\,\\s\\[\\'(?P<review_date>.*)\\'\\]\\]\")\n",
    "    temp_df['review_text'] = temp_df['review_text'].apply(\n",
    "        lambda x: re.split('\\'\\s*,\\s*\\'', str(x))).apply(\n",
    "        lambda x: [] if str(x[0]) == 'nan' else x)\n",
    "    temp_df['review_date'] = temp_df['review_date'].apply(\n",
    "        lambda x: re.split('\\'\\s*,\\s*\\'', str(x))).apply(\n",
    "        lambda x: [] if str(x[0]) == 'nan' else x)\n",
    "    \n",
    "    temp_df = df.join(pd.concat(\n",
    "        [pd.DataFrame(temp_df['review_text'].to_list(), columns=['review_text_1', 'review_text_2']),\n",
    "         pd.DataFrame(temp_df['review_date'].to_list(), columns=['review_date_1', 'review_date_2'])], \n",
    "        axis=1))\n",
    "    \n",
    "    temp_df['review_date_1'] = pd.to_datetime(temp_df['review_date_1'])\n",
    "    temp_df['review_date_2'] = pd.to_datetime(temp_df['review_date_2'])\n",
    "    \n",
    "    return temp_df\n",
    "\n",
    "def vectorize_text(df, feature, max_features=100):\n",
    "    '''В пакете sklearn уже есть встроенный метод по получению “Bag-Of-Words”'''\n",
    "    vectorizer = CountVectorizer(analyzer=\"word\", \n",
    "                                 max_features=max_features, \n",
    "                                 ngram_range=(2,4), \n",
    "                                 max_df=0.9,\n",
    "                                 min_df=0.0001,\n",
    "                                 stop_words='english')\n",
    "    train_data_features = vectorizer.fit_transform(df[feature].fillna(''))\n",
    "    column_names = []\n",
    "    for name in vectorizer.get_feature_names():\n",
    "        column_names.append(feature + '_vec_' + name)\n",
    "    return pd.DataFrame(train_data_features.toarray(), columns=column_names)\n",
    "\n",
    "def count_concurents(df):\n",
    "    temp_df = df.explode('Cuisine Style'\n",
    "                        ).groupby('Cuisine Style').count()['Restaurant_id'\n",
    "                                                          ].rename_axis('Cuisine Style').reset_index(name='restorans_in_style')\n",
    "    temp_df.index = temp_df['Cuisine Style']\n",
    "    temp_df.drop('Cuisine Style', axis=1, inplace=True)\n",
    "    return df['Cuisine Style'].apply(lambda lst: sum([temp_df.loc[idx][0] for idx in lst]))\n",
    "\n",
    "def count_concurents_in_city(df):\n",
    "    temp_df = df.explode(\n",
    "        'Cuisine Style').groupby(by=['Cuisine Style', 'City']).count()['Restaurant_id'].rename_axis(\n",
    "        ['Cuisine Style', 'City']).reset_index(name='value')\n",
    "    return df.apply(lambda row: sum([temp_df[(temp_df['Cuisine Style'] == idx) & (temp_df['City'] == row['City'])]['value'].values[0] for idx in row.loc['Cuisine Style']]), axis=1)\n",
    "\n",
    "def count_styles_in_city(df):\n",
    "    temp_df = df.explode(\n",
    "        'Cuisine Style').groupby(by=['Cuisine Style', 'City']).count()['Restaurant_id'].rename_axis(\n",
    "        ['Cuisine Style', 'City']).reset_index(name='value')\n",
    "    pivot_df = temp_df.pivot(index='City', columns='Cuisine Style', values='value')\n",
    "    pivot_df.fillna(0, inplace=True)\n",
    "    return df.merge(pivot_df, right_index=True, left_on='City', suffixes=('', '_count'))\n",
    "\n",
    "def rank_styles_in_city(df):\n",
    "    temp_df = df.explode(\n",
    "        'Cuisine Style').groupby(by=['Cuisine Style', 'City']).median()['Ranking'].rename_axis(\n",
    "        ['Cuisine Style', 'City']).reset_index(name='value')\n",
    "    pivot_df = temp_df.pivot(index='City', columns='Cuisine Style', values='value')\n",
    "    pivot_df = pivot_df.T.fillna(pivot_df.median(axis=1)).T\n",
    "    return df.merge(pivot_df, right_index=True, left_on='City', suffixes=('', '_rank'))\n",
    "\n",
    "def nofr_styles_in_city(df):\n",
    "    temp_df = df.explode(\n",
    "        'Cuisine Style').groupby(by=['Cuisine Style', 'City']).median()['Number of Reviews'].rename_axis(\n",
    "        ['Cuisine Style', 'City']).reset_index(name='value')\n",
    "    pivot_df = temp_df.pivot(index='City', columns='Cuisine Style', values='value')\n",
    "    pivot_df = pivot_df.T.fillna(pivot_df.median(axis=1)).T\n",
    "    return df.merge(pivot_df, right_index=True, left_on='City', suffixes=('', '_nofr'))\n",
    "\n",
    "def pric_styles_in_city(df):\n",
    "    temp_df = df.explode(\n",
    "        'Cuisine Style').groupby(by=['Cuisine Style', 'City']).median()['Price Range label'].rename_axis(\n",
    "        ['Cuisine Style', 'City']).reset_index(name='value')\n",
    "    pivot_df = temp_df.pivot(index='City', columns='Cuisine Style', values='value')\n",
    "    pivot_df = pivot_df.T.fillna(pivot_df.median(axis=1)).T\n",
    "    return df.merge(pivot_df, right_index=True, left_on='City', suffixes=('', '_pric'))\n",
    "\n",
    "\n",
    "def preproc_data(df_input):\n",
    "    '''includes several functions to pre-process the predictor data.'''\n",
    "\n",
    "    df_output = df_input.copy()\n",
    "    \n",
    "    # ################### 1. Предобработка ##############################################################\n",
    "    # убираем не нужные для модели признаки\n",
    "#    df_output.drop(['Restaurant_id', 'ID_TA', ], axis=1, inplace=True)\n",
    "    # ################### 2. NAN ##############################################################\n",
    "    # Далее заполняем пропуски, вы можете попробовать заполнением средним или средним по городу и тд...\n",
    "    # тут ваш код по обработке NAN\n",
    "    #  Пробуем заменить 'Number of Reviews' медианой\n",
    "    df_output['Number_of_Reviews_isNAN'] = pd.isna(df_output['Number of Reviews']).astype('uint8')\n",
    "    df_output['Number of Reviews'].fillna(df_output['Number of Reviews'].median(), inplace=True)\n",
    "    #  Заменяем 'Cuisine Style' на строку \"пустой список\", далее требуется обработка\n",
    "    df_output['Cuisine_Style_isNAN'] = pd.isna(df_output['Cuisine Style']).astype('uint8')\n",
    "    df_output['Cuisine Style'].fillna('[unknown]', inplace=True)\n",
    "    #  Заменяем 'Reviews' на строку \"пустой список\", далее требуется обработка\n",
    "    df_output['Reviews_isNAN'] = pd.isna(df_output['Reviews']).astype('uint8')\n",
    "    df_output['Reviews'].fillna('[[], []]', inplace=True)\n",
    "    #  Заменяем 'Price Range' на строку \"-\", далее требуется обработка\n",
    "    df_output['Price_Range_isNAN'] = pd.isna(df_output['Price Range']).astype('uint8')\n",
    "    df_output['Price Range'].fillna('-', inplace=True)\n",
    "\n",
    "    # ################### 3. Encoding ##############################################################\n",
    "    # для One-Hot Encoding в pandas есть готовая функция - get_dummies. Особенно радует параметр dummy_na\n",
    "    df_output = pd.get_dummies(df_output, columns=['City'], dummy_na=True)\n",
    "    df_output['City'] = df_input['City']\n",
    "    # тут ваш код не Encoding фитчей\n",
    "    df_output['Price Range label'] = df_output['Price Range'].apply(\n",
    "        lambda x: 3 if x == '$$$$' else 2 if x == '$$ - $$$' else 1 if x == '$' else 0 if x == '-' else x)\n",
    "    \n",
    "    df_output['Cuisine Style'] = df_output['Cuisine Style'].apply(\n",
    "        lambda s: re.split(r'\\s*,\\s*', re.sub(r'[\\]\\[\\']', '', str(s)))).apply(\n",
    "        lambda l: [c.lower().strip() for c in l]).apply(\n",
    "        lambda l: [x for x in l if str(x) != 'nan'])\n",
    "\n",
    "    df_output = multi_label_encode(df_output, 'Cuisine Style')\n",
    "\n",
    "    df_output = extractc_review(df_output)\n",
    "    \n",
    "\n",
    "    # ################### 4. Feature Engineering ####################################################\n",
    "    # тут ваш код не генерацию новых фитчей\n",
    "    temp_df = df_output.groupby('City').count()['Restaurant_id'].rename_axis('City').reset_index(name='restorans_in_city')\n",
    "    df_output = df_output.merge(temp_df)\n",
    "\n",
    "    df_output['review_1_year'] = df_output['review_date_1'].dt.year\n",
    "    df_output['review_1_year'].fillna(df_output['review_1_year'].median(), inplace=True)\n",
    "    df_output['review_2_year'] = df_output['review_date_2'].dt.year\n",
    "    df_output['review_2_year'].fillna(df_output['review_2_year'].median(), inplace=True)\n",
    "\n",
    "#    df_output['review_texts'] = df_output['review_text_1'] + df_output['review_text_2']\n",
    "    \n",
    "#    df_output['review_1_month'] = df_output['review_date_1'].dt.month\n",
    "#    df_output['review_1_month'].fillna(df_output['review_1_month'].median(), inplace=True)\n",
    "#    df_output['review_2_month'] = df_output['review_date_2'].dt.month\n",
    "#    df_output['review_2_month'].fillna(df_output['review_2_month'].median(), inplace=True)\n",
    "    \n",
    "#    df_output['review_1_day'] = df_output['review_date_1'].dt.day\n",
    "#    df_output['review_1_day'].fillna(df_output['review_1_day'].median(), inplace=True)\n",
    "#    df_output['review_2_day'] = df_output['review_date_2'].dt.day\n",
    "#    df_output['review_2_day'].fillna(df_output['review_2_day'].median(), inplace=True)\n",
    "\n",
    "#    df_output['review_1_weekday'] = df_output['review_date_1'].dt.weekday\n",
    "#    df_output['review_1_weekday'].fillna(df_output['review_1_weekday'].median(), inplace=True)\n",
    "#    df_output['review_2_weekday'] = df_output['review_date_2'].dt.weekday\n",
    "#    df_output['review_2_weekday'].fillna(df_output['review_2_weekday'].median(), inplace=True)\n",
    "\n",
    "    df_output['review_delta'] = (df_output['review_date_1'] - df_output['review_date_2']).dt.days\n",
    "    df_output['review_delta'].fillna(df_output['review_delta'].median(), inplace=True)\n",
    "    df_output.drop(['review_date_1', 'review_date_2'], axis=1, inplace=True)\n",
    "\n",
    "    temp_df = df_output.groupby('City')['Ranking'].median().rename_axis('City').reset_index(name='ranking_in_city')\n",
    "    df_output = df_output.merge(temp_df)\n",
    "    \n",
    "    temp_df = df_output.groupby('City')['Price Range label'].median().rename_axis('City').reset_index(name='price_in_city')\n",
    "    df_output = df_output.merge(temp_df)\n",
    "\n",
    "    temp_df = df_output.groupby('City')['Number of Reviews'].median().rename_axis('City').reset_index(name='reviews_in_city')\n",
    "    df_output = df_output.merge(temp_df)\n",
    "    \n",
    "    df_output = pd.concat([df_output, vectorize_text(df_output, 'review_text_1', max_features=None)], axis=1)\n",
    "    df_output = pd.concat([df_output, vectorize_text(df_output, 'review_text_2', max_features=None)], axis=1)\n",
    "    \n",
    "#    df_output['concurents'] = count_concurents(df_output)\n",
    "    df_output = count_styles_in_city(df_output)\n",
    "    df_output = rank_styles_in_city(df_output)\n",
    "    df_output = nofr_styles_in_city(df_output)\n",
    "    df_output = pric_styles_in_city(df_output)\n",
    "\n",
    "    \n",
    "    # ################### 5. Clean ####################################################\n",
    "    # убираем признаки которые еще не успели обработать,\n",
    "    # модель на признаках с dtypes \"object\" обучаться не будет, просто выберим их и удалим\n",
    "    object_columns = [s for s in df_output.columns if df_output[s].dtypes == 'object']\n",
    "    df_output.drop(object_columns, axis = 1, inplace=True)\n",
    "\n",
    "    return df_output\n",
    "\n"
   ]
  },
  {
   "cell_type": "markdown",
   "metadata": {},
   "source": [
    ">По хорошему, можно было бы перевести эту большую функцию в класс и разбить на подфункции (согласно ООП). "
   ]
  },
  {
   "cell_type": "markdown",
   "metadata": {},
   "source": [
    "#### Запускаем и проверяем что получилось"
   ]
  },
  {
   "cell_type": "code",
   "execution_count": 1047,
   "metadata": {},
   "outputs": [
    {
     "data": {
      "text/html": [
       "<div>\n",
       "<style scoped>\n",
       "    .dataframe tbody tr th:only-of-type {\n",
       "        vertical-align: middle;\n",
       "    }\n",
       "\n",
       "    .dataframe tbody tr th {\n",
       "        vertical-align: top;\n",
       "    }\n",
       "\n",
       "    .dataframe thead th {\n",
       "        text-align: right;\n",
       "    }\n",
       "</style>\n",
       "<table border=\"1\" class=\"dataframe\">\n",
       "  <thead>\n",
       "    <tr style=\"text-align: right;\">\n",
       "      <th></th>\n",
       "      <th>Ranking</th>\n",
       "      <th>Number of Reviews</th>\n",
       "      <th>sample</th>\n",
       "      <th>Rating</th>\n",
       "      <th>Number_of_Reviews_isNAN</th>\n",
       "      <th>Cuisine_Style_isNAN</th>\n",
       "      <th>Reviews_isNAN</th>\n",
       "      <th>Price_Range_isNAN</th>\n",
       "      <th>City_Amsterdam</th>\n",
       "      <th>City_Athens</th>\n",
       "      <th>...</th>\n",
       "      <th>unknown_pric</th>\n",
       "      <th>uzbek_pric</th>\n",
       "      <th>vegan options_pric</th>\n",
       "      <th>vegetarian friendly_pric</th>\n",
       "      <th>venezuelan_pric</th>\n",
       "      <th>vietnamese_pric</th>\n",
       "      <th>welsh_pric</th>\n",
       "      <th>wine bar_pric</th>\n",
       "      <th>xinjiang_pric</th>\n",
       "      <th>yunnan_pric</th>\n",
       "    </tr>\n",
       "  </thead>\n",
       "  <tbody>\n",
       "    <tr>\n",
       "      <th>18009</th>\n",
       "      <td>1650.0</td>\n",
       "      <td>28.0</td>\n",
       "      <td>1</td>\n",
       "      <td>4.0</td>\n",
       "      <td>0</td>\n",
       "      <td>0</td>\n",
       "      <td>0</td>\n",
       "      <td>1</td>\n",
       "      <td>0</td>\n",
       "      <td>0</td>\n",
       "      <td>...</td>\n",
       "      <td>0.0</td>\n",
       "      <td>2.0</td>\n",
       "      <td>2.0</td>\n",
       "      <td>2.0</td>\n",
       "      <td>2.0</td>\n",
       "      <td>2.0</td>\n",
       "      <td>2.0</td>\n",
       "      <td>2.0</td>\n",
       "      <td>2.0</td>\n",
       "      <td>2.0</td>\n",
       "    </tr>\n",
       "    <tr>\n",
       "      <th>23150</th>\n",
       "      <td>772.0</td>\n",
       "      <td>210.0</td>\n",
       "      <td>1</td>\n",
       "      <td>4.0</td>\n",
       "      <td>0</td>\n",
       "      <td>0</td>\n",
       "      <td>0</td>\n",
       "      <td>0</td>\n",
       "      <td>0</td>\n",
       "      <td>0</td>\n",
       "      <td>...</td>\n",
       "      <td>0.0</td>\n",
       "      <td>2.0</td>\n",
       "      <td>2.0</td>\n",
       "      <td>2.0</td>\n",
       "      <td>1.0</td>\n",
       "      <td>2.0</td>\n",
       "      <td>2.0</td>\n",
       "      <td>2.0</td>\n",
       "      <td>2.0</td>\n",
       "      <td>2.0</td>\n",
       "    </tr>\n",
       "    <tr>\n",
       "      <th>3604</th>\n",
       "      <td>7086.0</td>\n",
       "      <td>42.0</td>\n",
       "      <td>1</td>\n",
       "      <td>4.0</td>\n",
       "      <td>0</td>\n",
       "      <td>0</td>\n",
       "      <td>0</td>\n",
       "      <td>0</td>\n",
       "      <td>0</td>\n",
       "      <td>0</td>\n",
       "      <td>...</td>\n",
       "      <td>0.0</td>\n",
       "      <td>2.0</td>\n",
       "      <td>2.0</td>\n",
       "      <td>2.0</td>\n",
       "      <td>1.0</td>\n",
       "      <td>1.0</td>\n",
       "      <td>2.0</td>\n",
       "      <td>2.0</td>\n",
       "      <td>2.0</td>\n",
       "      <td>2.0</td>\n",
       "    </tr>\n",
       "    <tr>\n",
       "      <th>13008</th>\n",
       "      <td>9106.0</td>\n",
       "      <td>2.0</td>\n",
       "      <td>1</td>\n",
       "      <td>5.0</td>\n",
       "      <td>0</td>\n",
       "      <td>1</td>\n",
       "      <td>0</td>\n",
       "      <td>1</td>\n",
       "      <td>0</td>\n",
       "      <td>0</td>\n",
       "      <td>...</td>\n",
       "      <td>0.0</td>\n",
       "      <td>1.0</td>\n",
       "      <td>2.0</td>\n",
       "      <td>2.0</td>\n",
       "      <td>2.0</td>\n",
       "      <td>1.0</td>\n",
       "      <td>3.0</td>\n",
       "      <td>2.0</td>\n",
       "      <td>2.0</td>\n",
       "      <td>2.0</td>\n",
       "    </tr>\n",
       "    <tr>\n",
       "      <th>38423</th>\n",
       "      <td>3085.0</td>\n",
       "      <td>28.0</td>\n",
       "      <td>1</td>\n",
       "      <td>4.0</td>\n",
       "      <td>0</td>\n",
       "      <td>1</td>\n",
       "      <td>0</td>\n",
       "      <td>1</td>\n",
       "      <td>0</td>\n",
       "      <td>0</td>\n",
       "      <td>...</td>\n",
       "      <td>0.0</td>\n",
       "      <td>2.0</td>\n",
       "      <td>2.0</td>\n",
       "      <td>2.0</td>\n",
       "      <td>1.5</td>\n",
       "      <td>2.0</td>\n",
       "      <td>2.0</td>\n",
       "      <td>2.0</td>\n",
       "      <td>2.0</td>\n",
       "      <td>2.0</td>\n",
       "    </tr>\n",
       "    <tr>\n",
       "      <th>11376</th>\n",
       "      <td>6661.0</td>\n",
       "      <td>9.0</td>\n",
       "      <td>1</td>\n",
       "      <td>5.0</td>\n",
       "      <td>0</td>\n",
       "      <td>1</td>\n",
       "      <td>0</td>\n",
       "      <td>1</td>\n",
       "      <td>0</td>\n",
       "      <td>0</td>\n",
       "      <td>...</td>\n",
       "      <td>0.0</td>\n",
       "      <td>1.0</td>\n",
       "      <td>2.0</td>\n",
       "      <td>2.0</td>\n",
       "      <td>2.0</td>\n",
       "      <td>1.0</td>\n",
       "      <td>3.0</td>\n",
       "      <td>2.0</td>\n",
       "      <td>2.0</td>\n",
       "      <td>2.0</td>\n",
       "    </tr>\n",
       "    <tr>\n",
       "      <th>45048</th>\n",
       "      <td>694.0</td>\n",
       "      <td>11.0</td>\n",
       "      <td>1</td>\n",
       "      <td>4.5</td>\n",
       "      <td>0</td>\n",
       "      <td>1</td>\n",
       "      <td>0</td>\n",
       "      <td>1</td>\n",
       "      <td>0</td>\n",
       "      <td>1</td>\n",
       "      <td>...</td>\n",
       "      <td>0.0</td>\n",
       "      <td>2.0</td>\n",
       "      <td>2.0</td>\n",
       "      <td>2.0</td>\n",
       "      <td>2.0</td>\n",
       "      <td>2.0</td>\n",
       "      <td>2.0</td>\n",
       "      <td>2.0</td>\n",
       "      <td>2.0</td>\n",
       "      <td>2.0</td>\n",
       "    </tr>\n",
       "    <tr>\n",
       "      <th>6861</th>\n",
       "      <td>1266.0</td>\n",
       "      <td>5.0</td>\n",
       "      <td>1</td>\n",
       "      <td>4.5</td>\n",
       "      <td>0</td>\n",
       "      <td>1</td>\n",
       "      <td>0</td>\n",
       "      <td>1</td>\n",
       "      <td>0</td>\n",
       "      <td>0</td>\n",
       "      <td>...</td>\n",
       "      <td>0.0</td>\n",
       "      <td>2.0</td>\n",
       "      <td>2.0</td>\n",
       "      <td>2.0</td>\n",
       "      <td>2.0</td>\n",
       "      <td>2.0</td>\n",
       "      <td>2.0</td>\n",
       "      <td>2.0</td>\n",
       "      <td>2.0</td>\n",
       "      <td>2.0</td>\n",
       "    </tr>\n",
       "    <tr>\n",
       "      <th>37280</th>\n",
       "      <td>441.0</td>\n",
       "      <td>426.0</td>\n",
       "      <td>1</td>\n",
       "      <td>4.0</td>\n",
       "      <td>0</td>\n",
       "      <td>0</td>\n",
       "      <td>0</td>\n",
       "      <td>0</td>\n",
       "      <td>0</td>\n",
       "      <td>0</td>\n",
       "      <td>...</td>\n",
       "      <td>0.0</td>\n",
       "      <td>2.0</td>\n",
       "      <td>2.0</td>\n",
       "      <td>2.0</td>\n",
       "      <td>1.5</td>\n",
       "      <td>2.0</td>\n",
       "      <td>2.0</td>\n",
       "      <td>2.0</td>\n",
       "      <td>2.0</td>\n",
       "      <td>2.0</td>\n",
       "    </tr>\n",
       "    <tr>\n",
       "      <th>7765</th>\n",
       "      <td>10759.0</td>\n",
       "      <td>10.0</td>\n",
       "      <td>0</td>\n",
       "      <td>0.0</td>\n",
       "      <td>0</td>\n",
       "      <td>0</td>\n",
       "      <td>0</td>\n",
       "      <td>0</td>\n",
       "      <td>0</td>\n",
       "      <td>0</td>\n",
       "      <td>...</td>\n",
       "      <td>0.0</td>\n",
       "      <td>1.0</td>\n",
       "      <td>2.0</td>\n",
       "      <td>2.0</td>\n",
       "      <td>2.0</td>\n",
       "      <td>1.0</td>\n",
       "      <td>3.0</td>\n",
       "      <td>2.0</td>\n",
       "      <td>2.0</td>\n",
       "      <td>2.0</td>\n",
       "    </tr>\n",
       "  </tbody>\n",
       "</table>\n",
       "<p>10 rows × 5007 columns</p>\n",
       "</div>"
      ],
      "text/plain": [
       "       Ranking  Number of Reviews  sample  Rating  Number_of_Reviews_isNAN  \\\n",
       "18009   1650.0               28.0       1     4.0                        0   \n",
       "23150    772.0              210.0       1     4.0                        0   \n",
       "3604    7086.0               42.0       1     4.0                        0   \n",
       "13008   9106.0                2.0       1     5.0                        0   \n",
       "38423   3085.0               28.0       1     4.0                        0   \n",
       "11376   6661.0                9.0       1     5.0                        0   \n",
       "45048    694.0               11.0       1     4.5                        0   \n",
       "6861    1266.0                5.0       1     4.5                        0   \n",
       "37280    441.0              426.0       1     4.0                        0   \n",
       "7765   10759.0               10.0       0     0.0                        0   \n",
       "\n",
       "       Cuisine_Style_isNAN  Reviews_isNAN  Price_Range_isNAN  City_Amsterdam  \\\n",
       "18009                    0              0                  1               0   \n",
       "23150                    0              0                  0               0   \n",
       "3604                     0              0                  0               0   \n",
       "13008                    1              0                  1               0   \n",
       "38423                    1              0                  1               0   \n",
       "11376                    1              0                  1               0   \n",
       "45048                    1              0                  1               0   \n",
       "6861                     1              0                  1               0   \n",
       "37280                    0              0                  0               0   \n",
       "7765                     0              0                  0               0   \n",
       "\n",
       "       City_Athens  ...  unknown_pric  uzbek_pric  vegan options_pric  \\\n",
       "18009            0  ...           0.0         2.0                 2.0   \n",
       "23150            0  ...           0.0         2.0                 2.0   \n",
       "3604             0  ...           0.0         2.0                 2.0   \n",
       "13008            0  ...           0.0         1.0                 2.0   \n",
       "38423            0  ...           0.0         2.0                 2.0   \n",
       "11376            0  ...           0.0         1.0                 2.0   \n",
       "45048            1  ...           0.0         2.0                 2.0   \n",
       "6861             0  ...           0.0         2.0                 2.0   \n",
       "37280            0  ...           0.0         2.0                 2.0   \n",
       "7765             0  ...           0.0         1.0                 2.0   \n",
       "\n",
       "       vegetarian friendly_pric  venezuelan_pric  vietnamese_pric  welsh_pric  \\\n",
       "18009                       2.0              2.0              2.0         2.0   \n",
       "23150                       2.0              1.0              2.0         2.0   \n",
       "3604                        2.0              1.0              1.0         2.0   \n",
       "13008                       2.0              2.0              1.0         3.0   \n",
       "38423                       2.0              1.5              2.0         2.0   \n",
       "11376                       2.0              2.0              1.0         3.0   \n",
       "45048                       2.0              2.0              2.0         2.0   \n",
       "6861                        2.0              2.0              2.0         2.0   \n",
       "37280                       2.0              1.5              2.0         2.0   \n",
       "7765                        2.0              2.0              1.0         3.0   \n",
       "\n",
       "       wine bar_pric  xinjiang_pric  yunnan_pric  \n",
       "18009            2.0            2.0          2.0  \n",
       "23150            2.0            2.0          2.0  \n",
       "3604             2.0            2.0          2.0  \n",
       "13008            2.0            2.0          2.0  \n",
       "38423            2.0            2.0          2.0  \n",
       "11376            2.0            2.0          2.0  \n",
       "45048            2.0            2.0          2.0  \n",
       "6861             2.0            2.0          2.0  \n",
       "37280            2.0            2.0          2.0  \n",
       "7765             2.0            2.0          2.0  \n",
       "\n",
       "[10 rows x 5007 columns]"
      ]
     },
     "execution_count": 1047,
     "metadata": {},
     "output_type": "execute_result"
    }
   ],
   "source": [
    "df_preproc = preproc_data(data)\n",
    "df_preproc.sample(10)"
   ]
  },
  {
   "cell_type": "code",
   "execution_count": 1048,
   "metadata": {},
   "outputs": [
    {
     "name": "stdout",
     "output_type": "stream",
     "text": [
      "<class 'pandas.core.frame.DataFrame'>\n",
      "Int64Index: 50000 entries, 0 to 49999\n",
      "Columns: 5007 entries, Ranking to yunnan_pric\n",
      "dtypes: float64(515), int64(4456), uint8(36)\n",
      "memory usage: 1.9 GB\n"
     ]
    }
   ],
   "source": [
    "df_preproc.info()"
   ]
  },
  {
   "cell_type": "code",
   "execution_count": 1049,
   "metadata": {},
   "outputs": [],
   "source": [
    "# Теперь выделим тестовую часть\n",
    "train_data = df_preproc.query('sample == 1').drop(['sample'], axis=1)\n",
    "test_data = df_preproc.query('sample == 0').drop(['sample'], axis=1)\n",
    "\n",
    "y = train_data.Rating.values            # наш таргет\n",
    "X = train_data.drop(['Rating'], axis=1)"
   ]
  },
  {
   "cell_type": "markdown",
   "metadata": {},
   "source": [
    "**Перед тем как отправлять наши данные на обучение, разделим данные на еще один тест и трейн, для валидации. \n",
    "Это поможет нам проверить, как хорошо наша модель работает, до отправки submissiona на kaggle.**"
   ]
  },
  {
   "cell_type": "code",
   "execution_count": 1050,
   "metadata": {},
   "outputs": [],
   "source": [
    "# Воспользуемся специальной функцие train_test_split для разбивки тестовых данных\n",
    "# выделим 20% данных на валидацию (параметр test_size)\n",
    "X_train, X_test, y_train, y_test = train_test_split(X, y, test_size=0.2, random_state=RANDOM_SEED)"
   ]
  },
  {
   "cell_type": "code",
   "execution_count": 1051,
   "metadata": {},
   "outputs": [
    {
     "data": {
      "text/plain": [
       "((10000, 5006), (40000, 5006), (40000, 5005), (32000, 5005), (8000, 5005))"
      ]
     },
     "execution_count": 1051,
     "metadata": {},
     "output_type": "execute_result"
    }
   ],
   "source": [
    "# проверяем\n",
    "test_data.shape, train_data.shape, X.shape, X_train.shape, X_test.shape"
   ]
  },
  {
   "cell_type": "markdown",
   "metadata": {},
   "source": [
    "# Model \n",
    "Сам ML"
   ]
  },
  {
   "cell_type": "code",
   "execution_count": 1052,
   "metadata": {},
   "outputs": [],
   "source": [
    "# Импортируем необходимые библиотеки:\n",
    "from sklearn.ensemble import RandomForestRegressor # инструмент для создания и обучения модели\n",
    "from sklearn import metrics # инструменты для оценки точности модели"
   ]
  },
  {
   "cell_type": "code",
   "execution_count": 1053,
   "metadata": {},
   "outputs": [],
   "source": [
    "# Создаём модель (НАСТРОЙКИ НЕ ТРОГАЕМ)\n",
    "model = RandomForestRegressor(n_estimators=100, verbose=1, n_jobs=-1, random_state=RANDOM_SEED)"
   ]
  },
  {
   "cell_type": "code",
   "execution_count": 1054,
   "metadata": {},
   "outputs": [
    {
     "name": "stderr",
     "output_type": "stream",
     "text": [
      "[Parallel(n_jobs=-1)]: Using backend ThreadingBackend with 8 concurrent workers.\n",
      "[Parallel(n_jobs=-1)]: Done  34 tasks      | elapsed:   54.2s\n",
      "[Parallel(n_jobs=-1)]: Done 100 out of 100 | elapsed:  2.3min finished\n"
     ]
    },
    {
     "name": "stdout",
     "output_type": "stream",
     "text": [
      "CPU times: user 13min, sys: 5.75 s, total: 13min 6s\n",
      "Wall time: 2min 20s\n"
     ]
    },
    {
     "name": "stderr",
     "output_type": "stream",
     "text": [
      "[Parallel(n_jobs=8)]: Using backend ThreadingBackend with 8 concurrent workers.\n",
      "[Parallel(n_jobs=8)]: Done  34 tasks      | elapsed:    0.0s\n",
      "[Parallel(n_jobs=8)]: Done 100 out of 100 | elapsed:    0.1s finished\n"
     ]
    }
   ],
   "source": [
    "%%time\n",
    "# Обучаем модель на тестовом наборе данных\n",
    "model.fit(X_train, y_train)\n",
    "\n",
    "# Используем обученную модель для предсказания рейтинга ресторанов в тестовой выборке.\n",
    "# Предсказанные значения записываем в переменную y_pred\n",
    "y_pred = model.predict(X_test)"
   ]
  },
  {
   "cell_type": "code",
   "execution_count": 1055,
   "metadata": {},
   "outputs": [
    {
     "name": "stdout",
     "output_type": "stream",
     "text": [
      "MAE: 0.19883187499999996\n"
     ]
    }
   ],
   "source": [
    "# Сравниваем предсказанные значения (y_pred) с реальными (y_test), и смотрим насколько они в среднем отличаются\n",
    "# Метрика называется Mean Absolute Error (MAE) и показывает среднее отклонение предсказанных значений от фактических.\n",
    "print('MAE:', metrics.mean_absolute_error(y_test, y_pred))"
   ]
  },
  {
   "cell_type": "code",
   "execution_count": 1025,
   "metadata": {},
   "outputs": [],
   "source": [
    "# MAE: 0.20258687499999997\n",
    "# MAE: 0.20236624999999997\n",
    "# MAE: 0.19811562499999996"
   ]
  },
  {
   "cell_type": "code",
   "execution_count": 1026,
   "metadata": {},
   "outputs": [
    {
     "data": {
      "text/plain": [
       "<AxesSubplot:>"
      ]
     },
     "execution_count": 1026,
     "metadata": {},
     "output_type": "execute_result"
    },
    {
     "data": {
      "image/png": "[encoded data removed]",
      "text/plain": [
       "<Figure size 720x2160 with 1 Axes>"
      ]
     },
     "metadata": {
      "needs_background": "light"
     },
     "output_type": "display_data"
    }
   ],
   "source": [
    "# в RandomForestRegressor есть возможность вывести самые важные признаки для модели\n",
    "plt.rcParams['figure.figsize'] = (10,30)\n",
    "feat_importances = pd.Series(model.feature_importances_, index=X.columns)\n",
    "feat_importances.nlargest(100).plot(kind='barh')"
   ]
  },
  {
   "cell_type": "code",
   "execution_count": null,
   "metadata": {},
   "outputs": [],
   "source": [
    "pd.DataFrame(model.feature_importances_, index=X.columns).to_csv('feature_importances_1_2.csv')"
   ]
  },
  {
   "cell_type": "markdown",
   "metadata": {},
   "source": [
    "# Submission\n",
    "Если все устраевает - готовим Submission на кагл"
   ]
  },
  {
   "cell_type": "code",
   "execution_count": null,
   "metadata": {},
   "outputs": [],
   "source": [
    "test_data.sample(10)"
   ]
  },
  {
   "cell_type": "code",
   "execution_count": null,
   "metadata": {},
   "outputs": [],
   "source": [
    "test_data = test_data.drop(['Rating'], axis=1)"
   ]
  },
  {
   "cell_type": "code",
   "execution_count": null,
   "metadata": {},
   "outputs": [],
   "source": [
    "sample_submission"
   ]
  },
  {
   "cell_type": "code",
   "execution_count": null,
   "metadata": {},
   "outputs": [],
   "source": [
    "predict_submission = model.predict(test_data)"
   ]
  },
  {
   "cell_type": "code",
   "execution_count": null,
   "metadata": {},
   "outputs": [],
   "source": [
    "predict_submission"
   ]
  },
  {
   "cell_type": "code",
   "execution_count": null,
   "metadata": {},
   "outputs": [],
   "source": [
    "sample_submission['Rating'] = predict_submission\n",
    "sample_submission.to_csv('submission.csv', index=False)\n",
    "sample_submission.head(10)"
   ]
  },
  {
   "cell_type": "markdown",
   "metadata": {},
   "source": [
    "# What's next?\n",
    "Или что делать, чтоб улучшить результат:\n",
    "* Обработать оставшиеся признаки в понятный для машины формат\n",
    "* Посмотреть, что еще можно извлечь из признаков\n",
    "* Сгенерировать новые признаки\n",
    "* Подгрузить дополнительные данные, например: по населению или благосостоянию городов\n",
    "* Подобрать состав признаков\n",
    "\n",
    "В общем, процесс творческий и весьма увлекательный! Удачи в соревновании!\n"
   ]
  },
  {
   "cell_type": "code",
   "execution_count": null,
   "metadata": {},
   "outputs": [],
   "source": []
  }
 ],
 "metadata": {
  "kernelspec": {
   "display_name": "Python 3",
   "language": "python",
   "name": "python3"
  },
  "language_info": {
   "codemirror_mode": {
    "name": "ipython",
    "version": 3
   },
   "file_extension": ".py",
   "mimetype": "text/x-python",
   "name": "python",
   "nbconvert_exporter": "python",
   "pygments_lexer": "ipython3",
   "version": "3.7.6"
  }
 },
 "nbformat": 4,
 "nbformat_minor": 1
}
